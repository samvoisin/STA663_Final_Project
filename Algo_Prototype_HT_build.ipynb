{
 "cells": [
  {
   "cell_type": "markdown",
   "metadata": {},
   "source": [
    "# Bayesian Hierarchical Clustering\n",
    "## Prototype Build"
   ]
  },
  {
   "cell_type": "markdown",
   "metadata": {},
   "source": [
    "The intent of this notebook is to implement a preliminary version of the *Bayesian Hierarchical Clustering* (BHC) algorithm.\n",
    "\n",
    "*Sources:*\n",
    "\n",
    "- https://cs.fit.edu/~dmitra/ArtInt/Spring2017/Projects/DM-on_ReportBayesian_Clustering_Project_Report_nlowing_rbomalaski.pdf"
   ]
  },
  {
   "cell_type": "markdown",
   "metadata": {},
   "source": [
    "### Generate Example Data\n",
    "\n",
    "Example data will consist of a mixture of three gaussian distributions with varying parameters. It will be clustered via random draws of a multinomial distribution."
   ]
  },
  {
   "cell_type": "code",
   "execution_count": 1,
   "metadata": {},
   "outputs": [],
   "source": [
    "import numpy as np\n",
    "import scipy as sc\n",
    "import pandas as pd\n",
    "import seaborn as sns\n",
    "import itertools as it\n",
    "from functools import reduce\n",
    "from scipy import stats\n",
    "from scipy import linalg as la\n",
    "from scipy import random as rnd\n",
    "from scipy.special import gamma, loggamma\n",
    "import matplotlib.pyplot as plt"
   ]
  },
  {
   "cell_type": "code",
   "execution_count": 2,
   "metadata": {},
   "outputs": [],
   "source": [
    "# bivariate gaussian params\n",
    "mu1 = np.zeros(2)\n",
    "cov1 = np.eye(2)\n",
    "\n",
    "mu2 = np.array([5, 3])\n",
    "cov2 = np.eye(2) * 2\n",
    "\n",
    "mu3 = np.array([8, 12])\n",
    "cov3 = np.array([3.4, 0, 0, 5.1]).reshape(2, 2)\n",
    "\n",
    "# multinom params\n",
    "p1 = 0.2\n",
    "p2 = 0\n",
    "p3 = 1 - p2 - p1\n",
    "\n",
    "# number of total draws\n",
    "draws = 60"
   ]
  },
  {
   "cell_type": "code",
   "execution_count": 3,
   "metadata": {},
   "outputs": [],
   "source": [
    "# random draws\n",
    "rnd.seed(1)\n",
    "\n",
    "knum = rnd.multinomial(draws, (p1, p2, p3))\n",
    "\n",
    "gaus1 = rnd.multivariate_normal(mu1, cov1, knum[0])\n",
    "gaus2 = rnd.multivariate_normal(mu2, cov2, knum[1])\n",
    "gaus3 = rnd.multivariate_normal(mu3, cov3, knum[2])"
   ]
  },
  {
   "cell_type": "code",
   "execution_count": 4,
   "metadata": {},
   "outputs": [],
   "source": [
    "# join columns into dataframe\n",
    "x1 = pd.Series(np.r_[gaus1[:, 0], gaus2[:, 0], gaus3[:, 0]])\n",
    "x2 = pd.Series(np.r_[gaus1[:, 1], gaus2[:, 1], gaus3[:, 1]])\n",
    "c = pd.Series(np.r_[np.zeros(knum[0]), np.ones(knum[1]), np.ones(knum[2]) * 2])\n",
    "dat = {\"x1\" : x1, \"x2\" : x2, \"c\" : c}\n",
    "clustData = pd.DataFrame(dat)"
   ]
  },
  {
   "cell_type": "code",
   "execution_count": 5,
   "metadata": {},
   "outputs": [
    {
     "data": {
      "image/png": "[encoded data removed]",
      "text/plain": [
       "<Figure size 432x288 with 1 Axes>"
      ]
     },
     "metadata": {
      "needs_background": "light"
     },
     "output_type": "display_data"
    }
   ],
   "source": [
    "plt.scatter(clustData[\"x1\"], clustData[\"x2\"], c = clustData[\"c\"])\n",
    "plt.title(\"Visualizing the Clusters\")\n",
    "plt.show()"
   ]
  },
  {
   "cell_type": "markdown",
   "metadata": {},
   "source": [
    "### Preliminary Algorithm\n",
    "\n",
    "***BHC Steps:***\n",
    "\n",
    "\n",
    "1. Input\n",
    "    - Data: $D = \\{\\vec{x_1}, ..., \\vec{x_n}\\}$ \n",
    "    - Select generative model: $p(\\vec{x} | \\theta)$\n",
    "    - Select appropriate prior: $p(\\theta | \\theta_0)$\n",
    "\n",
    "2. Initialize Stage\n",
    "    - Number of initial clusters: `c = len(D)`\n",
    "    - $D_i = {\\vec{x_i}}$ for $i = 1, ..., n$\n",
    "\n",
    "3. Iterate Stage\n",
    "    `while c > 1:`\n",
    "    \n",
    "    - find data pair $D_i$, $D_j$ w/ highest posterior probability for merge hypothesis: $r_k = p(H^1_k | D_k) = \\frac{p(D_k | H^1_k)\\pi_k}{p(D_k | T_k)}$\n",
    "    - merge clusters $D_k = D_i \\cup D_j$\n",
    "    - delete old clusters $D_i$ and $D_j$\n",
    "    - interate number of clusters `c -= 1`\n",
    "    \n",
    "   `end loop`"
   ]
  },
  {
   "cell_type": "markdown",
   "metadata": {},
   "source": [
    "***Output:***\n",
    "\n",
    "Bayesian mixture model where each tree node is a mixture component. Tree can be cut at points where $r_k < 0.5$."
   ]
  },
  {
   "cell_type": "code",
   "execution_count": 6,
   "metadata": {},
   "outputs": [],
   "source": [
    "### Set Clustering Prior Paramteres ###\n",
    "\n",
    "# Gaussian Distribution - loc is mean; scale is sd\n",
    "# Gamma Distribution - a is shape; scale is rate; leave loc at 0\n",
    "\n",
    "empX = clustData.iloc[1:10,0:2].values\n",
    "empXtX = empX.T @ empX\n",
    "\n",
    "allParams = {\n",
    "    \"clusterConcentrationPrior\" : {\"alpha\" : 2},\n",
    "    \"diffuseInvWishPrior\" : {\"df\" : 10, \"scale\" : empXtX}, # inv wishart params\n",
    "    \"diffuseNormPrior\" : {\"loc\" : np.mean(clustData.iloc[:,0:2], axis = 0),\n",
    "                          \"scale\" : empXtX,\n",
    "                          \"meanscale\" : 1}, # mvtnormal params\n",
    "}\n"
   ]
  },
  {
   "cell_type": "code",
   "execution_count": 7,
   "metadata": {},
   "outputs": [
    {
     "data": {
      "text/plain": [
       "array([[ 0.86540763, -2.3015387 ],\n",
       "       [ 1.74481176, -0.7612069 ],\n",
       "       [ 0.3190391 , -0.24937038],\n",
       "       [ 1.46210794, -2.06014071],\n",
       "       [-0.3224172 , -0.38405435],\n",
       "       [ 1.13376944, -1.09989127],\n",
       "       [-0.17242821, -0.87785842],\n",
       "       [ 0.04221375,  0.58281521],\n",
       "       [-1.10061918,  1.14472371]])"
      ]
     },
     "execution_count": 7,
     "metadata": {},
     "output_type": "execute_result"
    }
   ],
   "source": [
    "empX"
   ]
  },
  {
   "cell_type": "markdown",
   "metadata": {},
   "source": [
    "# Building Algorithm Components"
   ]
  },
  {
   "cell_type": "markdown",
   "metadata": {},
   "source": [
    "### Defining the `Split` and `Leaf` Classes\n",
    "\n",
    "The `Split` class will store all the information about a given split including the vectors that belong to that tree and subtrees.\n",
    "\n",
    "The `Leaf` class stores fundamental information at the bottom tier."
   ]
  },
  {
   "cell_type": "code",
   "execution_count": 8,
   "metadata": {},
   "outputs": [],
   "source": [
    "class Leaf:\n",
    "    \"\"\"Leaf class contains information for each data point at tier 1 level\"\"\"\n",
    "    \n",
    "    def __init__(self, pt, clustid, priorParams):\n",
    "        \"\"\"initialize Leaf object\n",
    "        class parameters:\n",
    "        pt - an individual data point stored as a len 1 np array\n",
    "        clustid - id number assigned to each leaf and used to identify\n",
    "        subclusters as algorithm progresses\n",
    "        priorParams - dictionary of prior parameters (e.g.\n",
    "        diffuseWishPrior, diffuseNormPrior, clusterConcentrationPrior)\n",
    "        class attributes:\n",
    "        tier - level of the tree where the split occurs; leaves are tier 1\n",
    "\t\talpha - cluster concentration parameter controlling\n",
    "        probability of creating a new cluster k; dirichlet scaling factor\n",
    "        margLik - prob of data under tree (i.e. p(Dk | Tk)); 1 for leaves\n",
    "\t\tclust - non-nested data points in cluster; leaves have clust size 1\n",
    "        clustid - id number assigned to each leaf and used to identify\n",
    "        subclusters as algorithm progresses\n",
    "\t\tclustsize - number of data points in cluster; leaves have clust size 1\n",
    "\t\td - tree density parameter(?)\n",
    "\t\tpi - probability of cluster k existing\n",
    "        \"\"\"\n",
    "        self.tier = 0\n",
    "        self.alpha = priorParams[\"clusterConcentrationPrior\"][\"alpha\"]\n",
    "        self.priorParams = priorParams\n",
    "        self.margLik = 1\n",
    "        self.clust = np.array([pt])\n",
    "        self.clustid = clustid\n",
    "        self.clustsize = 1\n",
    "        self.d = self.alpha\n",
    "        self.pi = 1\n",
    "        self.postMergProb = 1.0"
   ]
  },
  {
   "cell_type": "code",
   "execution_count": 9,
   "metadata": {},
   "outputs": [],
   "source": [
    "class Split:\n",
    "    \"\"\"\n",
    "    Split class stores all information about a given split\n",
    "    clusti and clustj are two clusters lower in the hierarchy\n",
    "    which are joined to form new cluster k\n",
    "    \"\"\"\n",
    "    \n",
    "    def __init__(self, clusti, clustj):\n",
    "        \"\"\"\n",
    "        initialize Split object\n",
    "        class parameters:\n",
    "        left - a Split or Leaf object from left tree below\n",
    "        right - a Split or Leaf object from right tree below\n",
    "        class attributes:\n",
    "        priorParams - prior parameters inherited from previous Split/ Leaf\n",
    "        alpha - cluster concentration parameter controls\n",
    "        prob of creating the new cluster k; inverited from previous Split/ Leaf\n",
    "        tier - level of the tree where the split occurs\n",
    "\t\talpha - cluster concentration parameter controlling\n",
    "        probability of creating a new cluster k; dirichlet scaling factor\n",
    "\t\tclust - non-nested data points in cluster\n",
    "        clustid - tuple of id numbers used to identify subclusters as\n",
    "        algorithm progresses; see \"tree consistent\" in BHC paper\n",
    "\t\tclustsize - number of data points in cluster\n",
    "\t\td - tree depth parameter(?)\n",
    "\t\tpi - prob of merging clusters i and j\n",
    "        margLik - prob of data under tree (i.e. p(Dk | Tk))\n",
    "        postMergProb - posterior probability for cluster k; referred to as rk\n",
    "        in Heller and Ghahramani BHC paper\n",
    "        \"\"\"\n",
    "        self.left = clusti\n",
    "        self.right = clustj\n",
    "        self.clustid = (self.left.clustid, self.right.clustid)\n",
    "        self.priorParams = clusti.priorParams\n",
    "        self.alpha = clusti.alpha\n",
    "        self.tier = max(clusti.tier, clustj.tier) + 1\n",
    "        self.clustsize = clusti.clustsize + clustj.clustsize\n",
    "        self.clust = np.vstack([clusti.clust, clustj.clust])\n",
    "        \n",
    "        # calculate new d_k\n",
    "        self.d = (\n",
    "        \tself.alpha * gamma(self.clustsize) +\n",
    "        \tclusti.d * clustj.d\n",
    "        \t)\n",
    "        \n",
    "        # calculate new pi_k\n",
    "        self.pi = self.alpha * gamma(self.clustsize) / self.d\n",
    "\n",
    "        # calculate marginal likelihood for this cluster (i.e. p(Dk | Tk))\n",
    "        self.margLik = marginal_clust_k(self.left, self.right)\n",
    "\n",
    "        # calculate posterior merge probability for this cluster (i.e. rk)\n",
    "        self.postMergProb = posterior_join_k(self.left, self.right)"
   ]
  },
  {
   "cell_type": "markdown",
   "metadata": {},
   "source": [
    "### Hypothesis Testing Helper Functions"
   ]
  },
  {
   "cell_type": "code",
   "execution_count": 10,
   "metadata": {},
   "outputs": [],
   "source": [
    "def eval_H1(ci, cj):\n",
    "    \"\"\"\n",
    "    Evaluate hypothesis 1 for merging two clusters ci and cj.\n",
    "    This function assumes MVTNormal-Wishart conjugacy.\n",
    "    Will need to generalize later\n",
    "    ci and cj - clusters being tested for merge\n",
    "    \n",
    "    Inv Wish prior hyperparams:\n",
    "    v - df\n",
    "    S - prior precision matrix (currently defined as empirical cov mat)\n",
    "    \n",
    "    \n",
    "    Default Normal prior hyperparams:\n",
    "    m - prior mean (currently defined as sample mean)\n",
    "    r - scaling factor on the prior precision of the mean\n",
    "    \n",
    "    hkparams - dictionary of prior parameters (e.g.\n",
    "    diffuseWishPrior, diffuseNormPrior, clusterConcentrationPrior)\n",
    "    \"\"\"\n",
    "\n",
    "    # abbreviated keyword arguments for brevity in calcs;\n",
    "    # not the most efficient thing to do, but it's here for now...\n",
    "    X = np.vstack([ci.clust, cj.clust])\n",
    "    N, k = X.shape\n",
    "    m = ci.priorParams[\"diffuseNormPrior\"][\"loc\"]\n",
    "    r = ci.priorParams[\"diffuseNormPrior\"][\"meanscale\"]\n",
    "    v = ci.priorParams[\"diffuseInvWishPrior\"][\"df\"]\n",
    "    S = ci.priorParams[\"diffuseInvWishPrior\"][\"scale\"]\n",
    "    \n",
    "    ## version of eval_H1 from Heller appendix\n",
    "    # posterior precision matrix\n",
    "    Xrowsum = np.sum(X, axis = 0) # calc once for efficiency\n",
    "    \n",
    "    Sprime = (\n",
    "        S + np.dot(X.T, X) + (r * N / (N + r)) * np.dot(m, m.T) + \n",
    "        (1 / (N + r)) * np.dot(Xrowsum, Xrowsum.T) +\n",
    "        (r / (N + r)) * (np.dot(m, Xrowsum.T) + np.dot(Xrowsum, m.T))\n",
    "    )\n",
    "\n",
    "    vprime = v + N\n",
    "\n",
    "    # components of p(D_k | H_1)\n",
    "    numer = [gamma((vprime + 1 - d) / 2) for d in range(1, k + 1)]\n",
    "    numer = reduce(lambda x, y: x * y, numer)\n",
    "    denom = [gamma((v + 1 - d) / 2) for d in range(1, k + 1)]\n",
    "    denom = reduce(lambda x, y: x * y, denom)\n",
    "    \n",
    "    fact = (2 ** (vprime*k/2) / 2 ** (v*k/2)) * (numer / denom)\n",
    "    \n",
    "    MarginalLikelihood = (\n",
    "        (2 * np.pi) ** (-N * k / 2) *\n",
    "        (r / (N + r)) ** (k / 2) *\n",
    "        la.det(S) ** (v / 2) *\n",
    "        la.det(Sprime) ** (vprime / 2) *\n",
    "        fact\n",
    "    )\n",
    "    \n",
    "    return MarginalLikelihood"
   ]
  },
  {
   "cell_type": "code",
   "execution_count": 11,
   "metadata": {},
   "outputs": [],
   "source": [
    "def eval_H2(ci, cj):\n",
    "    \"\"\"\n",
    "    probability of hypothis 2: data comes from diff distr\n",
    "    ci and cj - clusters being tested for merge\n",
    "    \"\"\"\n",
    "    return ci.margLik * cj.margLik"
   ]
  },
  {
   "cell_type": "code",
   "execution_count": 12,
   "metadata": {},
   "outputs": [],
   "source": [
    "def prop_pi_k(ci, cj):\n",
    "    \"\"\"\n",
    "    calculate the probability of merging cluster i and cluster j to create\n",
    "    proposed cluster k\n",
    "    ci and cj - clusters being tested for merge\n",
    "    \"\"\"\n",
    "\n",
    "    # cluster size from proposed cluster k\n",
    "    propClustSize = ci.clustsize + cj.clustsize\n",
    "\n",
    "    # d_k for proposed cluster k\n",
    "    propd = (\n",
    "            ci.alpha *\n",
    "            gamma(propClustSize) +\n",
    "            ci.d * cj.d\n",
    "            )\n",
    "\n",
    "    # probability of creating proposed cluster k\n",
    "    pik = ci.alpha * gamma(propClustSize) / propd\n",
    "\n",
    "    return pik"
   ]
  },
  {
   "cell_type": "code",
   "execution_count": 13,
   "metadata": {},
   "outputs": [],
   "source": [
    "def marginal_clust_k(ci, cj):\n",
    "    \"\"\"\n",
    "    calculate the marginal likelihood for cluster k\n",
    "    This is the 'evidence' in Bayes Rule; called P(D_k | T_k) in paper\n",
    "    ci and cj - clusters being tested for merge\n",
    "    \"\"\"\n",
    "    \n",
    "    # calculate probability of creating proposed cluster k\n",
    "    pik = prop_pi_k(ci, cj)\n",
    "\n",
    "    # calculate probability of merge hypothesis\n",
    "    pH1 = eval_H1(ci, cj)\n",
    "\n",
    "    # calculate probability of independent hypothesis\n",
    "    pH2 = eval_H2(ci, cj)\n",
    "\n",
    "    # calculate marginal likelihood of cluster k\n",
    "    marginalLikelihood = pik * pH1 + (1 - pik) * pH2\n",
    "\n",
    "    return marginalLikelihood"
   ]
  },
  {
   "cell_type": "code",
   "execution_count": 14,
   "metadata": {},
   "outputs": [],
   "source": [
    "def posterior_join_k(ci, cj):\n",
    "    \"\"\"\n",
    "    calculate posterior probability of merged trees i & j\n",
    "    ci and cj - clusters being tested for merge\n",
    "    \"\"\"\n",
    "\n",
    "    # hypothesis 1 for cluster i and cluster j\n",
    "    ijH1 = eval_H1(ci, cj)\n",
    "\n",
    "    # marginal likelihood for cluster k; hypothesis 2 calculated within\n",
    "    ijMarg = marginal_clust_k(ci, cj)\n",
    "\n",
    "    # calculate probability of creating proposed cluster k\n",
    "    pik = prop_pi_k(ci, cj)\n",
    "\n",
    "    # posterior probability for creating cluster k from ci and cj\n",
    "    rk = pik * ijH1 / ijMarg\n",
    "\n",
    "    return rk"
   ]
  },
  {
   "cell_type": "markdown",
   "metadata": {},
   "source": [
    "#### Example Use of `Leaf ` and `Split`:"
   ]
  },
  {
   "cell_type": "code",
   "execution_count": 15,
   "metadata": {},
   "outputs": [],
   "source": [
    "x = empX[0, :]\n",
    "y = empX[1, :]\n",
    "z = empX[2, :]"
   ]
  },
  {
   "cell_type": "code",
   "execution_count": 16,
   "metadata": {},
   "outputs": [],
   "source": [
    "# assign some leaves\n",
    "lx = Leaf(x, 1, allParams)\n",
    "ly = Leaf(y, 2, allParams)\n",
    "lz = Leaf(z, 3, allParams)"
   ]
  },
  {
   "cell_type": "code",
   "execution_count": 17,
   "metadata": {},
   "outputs": [
    {
     "name": "stdout",
     "output_type": "stream",
     "text": [
      "\n",
      "Test merge x and y\n",
      "Hypothesis 1: 3.274790290697563e+30\n",
      "Hypothesis 2: 1\n",
      "Posterior probability for cluster k: 1.0\n",
      "\n",
      "\n",
      "Test merge x and z\n",
      "Hypothesis 1: 1.093521078410172e+30\n",
      "Hypothesis 2: 1\n",
      "Posterior probability for cluster k: 1.0\n",
      "\n",
      "\n",
      "Test merge z and y\n",
      "Hypothesis 1: 1.6188053765565126e+30\n",
      "Hypothesis 2: 1\n",
      "Posterior probability for cluster k: 1.0\n",
      "\n"
     ]
    }
   ],
   "source": [
    "# testing merges x and y\n",
    "print(\"\\nTest merge x and y\")\n",
    "xyH1 = eval_H1(lx, ly)\n",
    "print(f\"Hypothesis 1: {xyH1}\")\n",
    "xyH2 = eval_H2(lx, ly)\n",
    "print(f\"Hypothesis 2: {xyH2}\")\n",
    "xyPost = posterior_join_k(lx, ly)\n",
    "print(f\"Posterior probability for cluster k: {xyPost}\\n\")\n",
    "\n",
    "# testing merges x and z\n",
    "print(\"\\nTest merge x and z\")\n",
    "xzH1 = eval_H1(lx, lz)\n",
    "print(f\"Hypothesis 1: {xzH1}\")\n",
    "xzH2 = eval_H2(lx, lz)\n",
    "print(f\"Hypothesis 2: {xzH2}\")\n",
    "xzPost = posterior_join_k(lx, lz)\n",
    "print(f\"Posterior probability for cluster k: {xzPost}\\n\")\n",
    "\n",
    "# testing merges z and y\n",
    "print(\"\\nTest merge z and y\")\n",
    "zyH1 = eval_H1(lz, ly)\n",
    "print(f\"Hypothesis 1: {zyH1}\")\n",
    "zyH2 = eval_H2(lz, ly)\n",
    "print(f\"Hypothesis 2: {zyH2}\")\n",
    "zyPost = posterior_join_k(lz, ly)\n",
    "print(f\"Posterior probability for cluster k: {zyPost}\\n\")"
   ]
  },
  {
   "cell_type": "code",
   "execution_count": 18,
   "metadata": {},
   "outputs": [
    {
     "name": "stdout",
     "output_type": "stream",
     "text": [
      "Joining leaf x and leaf z...\n",
      "\n",
      "xzSplit attributes:\n",
      "left: <__main__.Leaf object at 0x1a1ce8ed68>\n",
      "right: <__main__.Leaf object at 0x1a1ce8e978>\n",
      "alpha: 2\n",
      "tier: 1\n",
      "clustsize: 2\n",
      "clust:\n",
      " [[ 0.86540763 -2.3015387 ]\n",
      " [ 0.3190391  -0.24937038]]\n",
      "\n",
      "\n",
      "cluster dimensions: (2, 2)\n",
      "Marginal likelihood for xzSplit: 3.64507026136724e+29\n"
     ]
    }
   ],
   "source": [
    "xzSplit = Split(lx, lz)\n",
    "\n",
    "print(\"Joining leaf x and leaf z...\\n\")\n",
    "print(\"xzSplit attributes:\")\n",
    "print(f\"left: {xzSplit.left}\")\n",
    "print(f\"right: {xzSplit.right}\")\n",
    "print(f\"alpha: {xzSplit.alpha}\")\n",
    "print(f\"tier: {xzSplit.tier}\")\n",
    "print(f\"clustsize: {xzSplit.clustsize}\")\n",
    "print(f\"clust:\\n {xzSplit.clust}\\n\\n\")\n",
    "print(f\"cluster dimensions: {xzSplit.clust.shape}\")\n",
    "\n",
    "print(f\"Marginal likelihood for xzSplit: {xzSplit.margLik}\")"
   ]
  },
  {
   "cell_type": "code",
   "execution_count": 19,
   "metadata": {},
   "outputs": [
    {
     "name": "stdout",
     "output_type": "stream",
     "text": [
      "\n",
      "Test merge xz and y\n",
      "Hypothesis 1: 7.59263689669721e+32\n",
      "Hypothesis 2: 3.64507026136724e+29\n",
      "Posterior probability for cluster k: 0.9985618324348707\n",
      "\n"
     ]
    }
   ],
   "source": [
    "# testing merges xz and y\n",
    "print(\"\\nTest merge xz and y\")\n",
    "xzyH1 = eval_H1(xzSplit, ly)\n",
    "print(f\"Hypothesis 1: {xzyH1}\")\n",
    "xzyH2 = eval_H2(xzSplit, ly)\n",
    "print(f\"Hypothesis 2: {xzyH2}\")\n",
    "xzyPost = posterior_join_k(xzSplit, ly)\n",
    "print(f\"Posterior probability for cluster k: {xzyPost}\\n\")"
   ]
  },
  {
   "cell_type": "code",
   "execution_count": 20,
   "metadata": {},
   "outputs": [
    {
     "data": {
      "text/plain": [
       "((1, 3), 2)"
      ]
     },
     "execution_count": 20,
     "metadata": {},
     "output_type": "execute_result"
    }
   ],
   "source": [
    "xzy = Split(xzSplit, ly)\n",
    "xzy.clustid"
   ]
  },
  {
   "cell_type": "markdown",
   "metadata": {},
   "source": [
    "### Defining the `HierarchyTree` Class\n",
    "\n",
    "The `HierarchyTree` class is the primary object for the BHC algorithm. It contains all of the `Leaf` and `Split` objects. The `grow_tree` function provides the mechanism by which the algorithm is performed."
   ]
  },
  {
   "cell_type": "code",
   "execution_count": 21,
   "metadata": {},
   "outputs": [],
   "source": [
    "### HierarchyTree helper functions ###\n",
    "\n",
    "from functools import reduce\n",
    "\n",
    "def get_max_posterior(propck):\n",
    "    \"\"\"\n",
    "    find the unique combination of clusters i and j with highest\n",
    "    posterior merge probability and return the new cluster\n",
    "    propck - list of unique proposed combinations of\n",
    "    clusters i and j\n",
    "    \"\"\"\n",
    "    # find pair with maximum posterior probability of merge\n",
    "    maxPost = reduce(\n",
    "        lambda ci, cj: ci if ci.postMergProb > cj.postMergProb else cj,\n",
    "        propck\n",
    "    )\n",
    "    \n",
    "    return maxPost\n",
    "\n",
    "###############################################################################\n",
    "\n",
    "\n",
    "def place_cluster(ck, tree):\n",
    "        \"\"\"\n",
    "        place new cluster k in appropriate tier. If tier does not exist\n",
    "        this change-of-state method will create it\n",
    "        \"\"\"\n",
    "        tree[ck.tier] = {ck.clustid : ck}\n",
    "        \n",
    "###############################################################################\n",
    "\n",
    "\n",
    "def update_cluster_list(clist, newck):\n",
    "    \"\"\"\n",
    "    update list of independent clusters as algorithm progresses. this list will\n",
    "    reduce by one for each iteration as cclusters i and j merge into cluster k\n",
    "    clist - current list of independent clusters\n",
    "    newck - newly merged cluster k\n",
    "    \"\"\"\n",
    "    clist.remove(newck.left) # remove cluster i\n",
    "    clist.remove(newck.right) # remove cluster j\n",
    "    clist.append(newck) # append new cluster k\n",
    "    \n",
    "    return clist\n",
    "\n",
    "\n",
    "###############################################################################\n",
    "######################### Prune Tree Helper Functions #########################\n",
    "###############################################################################\n",
    "\n",
    "\n",
    "def snip_splits(tier, cutpts):\n",
    "    \"\"\"\n",
    "    cut all points in a tier identified as unjustified merge\n",
    "    tier - integer identifying a tier in tree\n",
    "    cutpts - list of points where cluster joins are to be seperated\n",
    "    \"\"\"\n",
    "    for cut in cutpts:\n",
    "        tier.update({tier[cut].left.clustid : tier[cut].left})\n",
    "        tier.update({tier[cut].right.clustid : tier[cut].right})\n",
    "        tier.pop(cut)\n",
    "    \n",
    "###############################################################################\n",
    "\n",
    "\n",
    "def find_bad_merges(tier, rk):\n",
    "    \"\"\"\n",
    "    find merges where posterior merge probability < rk\n",
    "    tier - integer identifying a tier in tree\n",
    "    rk - posterior merge probability cut threshold; defaults to 0.5\n",
    "    \"\"\"\n",
    "    badMerges = [] # initialize list for unjustified merge ids\n",
    "    for cid, s in tier.items():\n",
    "        if s.postMergProb < rk:\n",
    "            badMerges.append(cid) # append clustid to bad merge list\n",
    "    \n",
    "    return badMerges\n"
   ]
  },
  {
   "cell_type": "code",
   "execution_count": 22,
   "metadata": {},
   "outputs": [],
   "source": [
    "from itertools import combinations\n",
    "\n",
    "class HierarchyTree:\n",
    "    \"\"\"\n",
    "    Primary Bayesian Hierarchical Clustering object; HierarchyTree contains\n",
    "    all of the Leaf and Split objects. The tree is complete when all points\n",
    "    have been agglomerated into a single hierarchical cluster.\n",
    "\n",
    "    The grow_tree method provides the mechanism for the clustering algorithm.\n",
    "    \"\"\"\n",
    "    \n",
    "    def __init__(self, X, allParams):\n",
    "        \"\"\"\n",
    "        Initialize HierarchyTree object\n",
    "        class parameters:\n",
    "        X - numpy array or pandas DataFrame to be clustered\n",
    "        priorParams - dictionary of prior parameters (e.g.\n",
    "        diffuseWishPrior, diffuseNormPrior, clusterConcentrationPrior)\n",
    "        class attributes:\n",
    "        clustCount - number of non-joined trees; incremented -1 each iter\n",
    "        leaves - initial clusters of single points stored in dictionary\n",
    "        currTier - current tier of tree being tested\n",
    "        clusterList - list of unjoined/ independent clusters remaining to\n",
    "        be tested for merge\n",
    "        tree - tree grown by the bhc algorithm; dictionary of tiers;\n",
    "        key is tier number and value is tier\n",
    "        \"\"\"\n",
    "        self.clustCount = X.shape[0]\n",
    "        self.leaves = {n : Leaf(i, n, allParams) for n, i in enumerate(X)}\n",
    "        self.currTier = self.leaves\n",
    "        self.tree = {0 : self.leaves} # tier 0 is Leaf tier\n",
    "        self.clusterList = [Leaf(i, n, allParams) for n, i in enumerate(X)]\n",
    "        self.tierList = [self.tree.keys()]\n",
    "        \n",
    "            \n",
    "    def grow_tree(self):\n",
    "        \"\"\"\n",
    "        Grow the tree over the maximum possible number of iterations.\n",
    "        This means all points will be joined into a single cluster at\n",
    "        the top level of the hierarchy. See `prune_tree` method.\n",
    "        \"\"\"\n",
    "        while len(self.clusterList) > 1:\n",
    "            # proposed clusters\n",
    "            propClusts = [\n",
    "                Split(c[0], c[1]) for c in combinations(self.clusterList, 2)\n",
    "            ]\n",
    "            clustk = get_max_posterior(propClusts) # highest posterior cluster\n",
    "            if clustk.tier in self.tree.keys():\n",
    "                self.tree[clustk.tier].update({clustk.clustid : clustk})\n",
    "            else:\n",
    "                self.tree[clustk.tier] = self.tree.get(\n",
    "                    clustk.tier, {clustk.clustid : clustk}\n",
    "                )\n",
    "            self.clusterList = update_cluster_list(self.clusterList, clustk)\n",
    "\n",
    "        \n",
    "    def prune_tree(self, rk = 0.5):\n",
    "        \"\"\"\n",
    "        Cut the tree at points where the posterior merge probability < rk\n",
    "        starting from top tier and going to bottom\n",
    "        rk - posterior merge probability cut threshold; defaults to 0.5\n",
    "        \"\"\"\n",
    "        tiers = [t for t in self.tree.keys()]\n",
    "        tiers.reverse() # ordered, descending integers for tiers\n",
    "        for t in tiers:\n",
    "            cutPoints = find_bad_merges(self.tree[t], rk)\n",
    "            snip_splits(self.tree[t], cutPoints)\n",
    "\n",
    "    def tier_summary(self, tiernum):\n",
    "        \"\"\"\n",
    "        summarize a tier\n",
    "        \"\"\"\n",
    "        print(f\"Summary for tier {tiernum}:\")\n",
    "        print(\"-------------------------------\")\n",
    "        print(f\"Number of clusters: {len(self.tree[tiernum].values())}\")\n",
    "        for n, c in enumerate(self.tree[tiernum].values()):\n",
    "            print(f\"  Cluster {n} size: {c.clustsize}\")\n",
    "            print(f\"\\t Posterior merge probability: {c.postMergProb:.2}\")\n",
    "        print(\"\\n\")\n",
    "        \n",
    "    def tree_summary(self):\n",
    "        \"\"\"\n",
    "        summarize tree structure\n",
    "        \"\"\"\n",
    "        for n in self.tree.keys():\n",
    "            self.tier_summary(n)"
   ]
  },
  {
   "cell_type": "code",
   "execution_count": 23,
   "metadata": {},
   "outputs": [],
   "source": [
    "ht = HierarchyTree(empX, allParams)"
   ]
  },
  {
   "cell_type": "code",
   "execution_count": 24,
   "metadata": {},
   "outputs": [],
   "source": [
    "ht.grow_tree()"
   ]
  },
  {
   "cell_type": "code",
   "execution_count": 25,
   "metadata": {},
   "outputs": [],
   "source": [
    "ht.prune_tree()"
   ]
  },
  {
   "cell_type": "code",
   "execution_count": 26,
   "metadata": {},
   "outputs": [
    {
     "name": "stdout",
     "output_type": "stream",
     "text": [
      "Summary for tier 2:\n",
      "-------------------------------\n",
      "Number of clusters: 3\n",
      "  Cluster 0 size: 3\n",
      "\t Posterior merge probability: 1.0\n",
      "  Cluster 1 size: 2\n",
      "\t Posterior merge probability: 1.0\n",
      "  Cluster 2 size: 2\n",
      "\t Posterior merge probability: 1.0\n",
      "\n",
      "\n"
     ]
    }
   ],
   "source": [
    "ht.tier_summary(2)"
   ]
  },
  {
   "cell_type": "code",
   "execution_count": 27,
   "metadata": {},
   "outputs": [
    {
     "name": "stdout",
     "output_type": "stream",
     "text": [
      "Summary for tier 0:\n",
      "-------------------------------\n",
      "Number of clusters: 9\n",
      "  Cluster 0 size: 1\n",
      "\t Posterior merge probability: 1.0\n",
      "  Cluster 1 size: 1\n",
      "\t Posterior merge probability: 1.0\n",
      "  Cluster 2 size: 1\n",
      "\t Posterior merge probability: 1.0\n",
      "  Cluster 3 size: 1\n",
      "\t Posterior merge probability: 1.0\n",
      "  Cluster 4 size: 1\n",
      "\t Posterior merge probability: 1.0\n",
      "  Cluster 5 size: 1\n",
      "\t Posterior merge probability: 1.0\n",
      "  Cluster 6 size: 1\n",
      "\t Posterior merge probability: 1.0\n",
      "  Cluster 7 size: 1\n",
      "\t Posterior merge probability: 1.0\n",
      "  Cluster 8 size: 1\n",
      "\t Posterior merge probability: 1.0\n",
      "\n",
      "\n",
      "Summary for tier 1:\n",
      "-------------------------------\n",
      "Number of clusters: 4\n",
      "  Cluster 0 size: 2\n",
      "\t Posterior merge probability: 1.0\n",
      "  Cluster 1 size: 2\n",
      "\t Posterior merge probability: 1.0\n",
      "  Cluster 2 size: 2\n",
      "\t Posterior merge probability: 1.0\n",
      "  Cluster 3 size: 2\n",
      "\t Posterior merge probability: 1.0\n",
      "\n",
      "\n",
      "Summary for tier 2:\n",
      "-------------------------------\n",
      "Number of clusters: 3\n",
      "  Cluster 0 size: 3\n",
      "\t Posterior merge probability: 1.0\n",
      "  Cluster 1 size: 2\n",
      "\t Posterior merge probability: 1.0\n",
      "  Cluster 2 size: 2\n",
      "\t Posterior merge probability: 1.0\n",
      "\n",
      "\n",
      "Summary for tier 3:\n",
      "-------------------------------\n",
      "Number of clusters: 2\n",
      "  Cluster 0 size: 2\n",
      "\t Posterior merge probability: 1.0\n",
      "  Cluster 1 size: 3\n",
      "\t Posterior merge probability: 1.0\n",
      "\n",
      "\n",
      "Summary for tier 4:\n",
      "-------------------------------\n",
      "Number of clusters: 2\n",
      "  Cluster 0 size: 5\n",
      "\t Posterior merge probability: 8e-25\n",
      "  Cluster 1 size: 4\n",
      "\t Posterior merge probability: 1.3e-25\n",
      "\n",
      "\n"
     ]
    }
   ],
   "source": [
    "ht.tree_summary()"
   ]
  },
  {
   "cell_type": "code",
   "execution_count": 28,
   "metadata": {},
   "outputs": [],
   "source": [
    "def tabular_format(tree):\n",
    "    \"\"\"\n",
    "    output tree as pandas DataFrame object\n",
    "    \"\"\"\n",
    "    "
   ]
  },
  {
   "cell_type": "code",
   "execution_count": null,
   "metadata": {},
   "outputs": [],
   "source": []
  },
  {
   "cell_type": "code",
   "execution_count": null,
   "metadata": {},
   "outputs": [],
   "source": []
  },
  {
   "cell_type": "code",
   "execution_count": null,
   "metadata": {},
   "outputs": [],
   "source": []
  }
 ],
 "metadata": {
  "kernelspec": {
   "display_name": "Python 3",
   "language": "python",
   "name": "python3"
  },
  "language_info": {
   "codemirror_mode": {
    "name": "ipython",
    "version": 3
   },
   "file_extension": ".py",
   "mimetype": "text/x-python",
   "name": "python",
   "nbconvert_exporter": "python",
   "pygments_lexer": "ipython3",
   "version": "3.7.2"
  }
 },
 "nbformat": 4,
 "nbformat_minor": 2
}
