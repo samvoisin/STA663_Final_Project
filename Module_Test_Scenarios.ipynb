{
 "cells": [
  {
   "cell_type": "markdown",
   "metadata": {},
   "source": [
    "# Scenerio Testing BHC Module"
   ]
  },
  {
   "cell_type": "markdown",
   "metadata": {},
   "source": [
    "### Test Scenerios:\n",
    "\n",
    "1) Simulated data clusters: Three component Gaussian mixture\n",
    "\n",
    "2) Real data set presented in BHC paper: Glass data set"
   ]
  },
  {
   "cell_type": "code",
   "execution_count": null,
   "metadata": {},
   "outputs": [],
   "source": [
    "import numpy as np\n",
    "import pandas as pd\n",
    "from scipy import stats\n",
    "from scipy import linalg as la\n",
    "from scipy import random as rnd\n",
    "import matplotlib.pyplot as plt\n",
    "\n",
    "import bhc"
   ]
  },
  {
   "cell_type": "markdown",
   "metadata": {},
   "source": [
    "### Data Sets"
   ]
  },
  {
   "cell_type": "markdown",
   "metadata": {},
   "source": [
    "**Three component Gaussian mixture:**"
   ]
  },
  {
   "cell_type": "code",
   "execution_count": null,
   "metadata": {},
   "outputs": [],
   "source": [
    "# bivariate gaussian params\n",
    "mu1 = np.zeros(2)\n",
    "cov1 = np.eye(2)\n",
    "\n",
    "mu2 = np.array([5, 3])\n",
    "cov2 = np.eye(2) * 2\n",
    "\n",
    "mu3 = np.array([8, 12])\n",
    "cov3 = np.array([3.4, 0, 0, 5.1]).reshape(2, 2)\n",
    "\n",
    "# multinom params\n",
    "p1 = 1 #0.3\n",
    "p2 = 0 #0.4\n",
    "p3 = 1 - p2 - p1\n",
    "\n",
    "# number of total draws\n",
    "draws = 100"
   ]
  },
  {
   "cell_type": "code",
   "execution_count": null,
   "metadata": {},
   "outputs": [],
   "source": [
    "# random draws\n",
    "rnd.seed(1)\n",
    "\n",
    "knum = rnd.multinomial(draws, (p1, p2, p3))\n",
    "\n",
    "gaus1 = rnd.multivariate_normal(mu1, cov1, knum[0])\n",
    "gaus2 = rnd.multivariate_normal(mu2, cov2, knum[1])\n",
    "gaus3 = rnd.multivariate_normal(mu3, cov3, knum[2])\n",
    "\n",
    "# join columns into dataframe\n",
    "x1 = pd.Series(np.r_[gaus1[:, 0], gaus2[:, 0], gaus3[:, 0]])\n",
    "x2 = pd.Series(np.r_[gaus1[:, 1], gaus2[:, 1], gaus3[:, 1]])\n",
    "c = pd.Series(np.r_[np.zeros(knum[0]), np.ones(knum[1]), np.ones(knum[2]) * 2])\n",
    "dat = {\"x1\" : x1, \"x2\" : x2, \"c\" : c}\n",
    "clustData = pd.DataFrame(dat)"
   ]
  },
  {
   "cell_type": "code",
   "execution_count": null,
   "metadata": {},
   "outputs": [],
   "source": [
    "plt.scatter(clustData[\"x1\"], clustData[\"x2\"], c = clustData[\"c\"])\n",
    "plt.title(\"Visualizing the Clusters\")\n",
    "plt.show()"
   ]
  },
  {
   "cell_type": "code",
   "execution_count": null,
   "metadata": {},
   "outputs": [],
   "source": [
    "# priors distribution hyper-parameters\n",
    "gcPriors = {\n",
    "    \"clusterConcentrationPrior\" : {\"alpha\" : 2},\n",
    "    \"diffuseInvWishPrior\" : {\"df\" : 10, \"scale\" : np.eye(2)}, # inv wishart params\n",
    "    \"diffuseNormPrior\" : {\"loc\" : np.zeros(2),\n",
    "                          \"scale\" : np.eye(2),\n",
    "                          \"meanscale\" : 1}, # mvtnormal params\n",
    "}"
   ]
  },
  {
   "cell_type": "code",
   "execution_count": null,
   "metadata": {},
   "outputs": [],
   "source": [
    "clustData.mean(axis=0)"
   ]
  },
  {
   "cell_type": "code",
   "execution_count": null,
   "metadata": {},
   "outputs": [],
   "source": [
    "gc = clustData.values[:, :2]\n",
    "gctree = bhc.HierarchyTree(X = gc, allParams = gcPriors)"
   ]
  },
  {
   "cell_type": "code",
   "execution_count": null,
   "metadata": {},
   "outputs": [],
   "source": [
    "gctree.grow_tree()"
   ]
  },
  {
   "cell_type": "code",
   "execution_count": null,
   "metadata": {},
   "outputs": [],
   "source": [
    "gctree.prune_tree()"
   ]
  },
  {
   "cell_type": "code",
   "execution_count": null,
   "metadata": {},
   "outputs": [],
   "source": [
    "gctree.tree_summary()"
   ]
  },
  {
   "cell_type": "code",
   "execution_count": null,
   "metadata": {},
   "outputs": [],
   "source": [
    "gctree.tree[89]"
   ]
  },
  {
   "cell_type": "code",
   "execution_count": null,
   "metadata": {},
   "outputs": [],
   "source": [
    "la.norm(gc[39,:] - gc[68,:], ord=2)"
   ]
  },
  {
   "cell_type": "code",
   "execution_count": null,
   "metadata": {},
   "outputs": [],
   "source": [
    "la.norm(gc[2,:] - gc[9,:], ord=2)"
   ]
  },
  {
   "cell_type": "markdown",
   "metadata": {},
   "source": [
    "**Glass Data Set:**"
   ]
  },
  {
   "cell_type": "code",
   "execution_count": null,
   "metadata": {},
   "outputs": [],
   "source": [
    "glassurl = \"https://archive.ics.uci.edu/ml/machine-learning-databases/glass/glass.data\"\n",
    "glasshead = [\"ID\", \"RI\", \"Na\", \"Mg\", \"Al\", \"Si\",\n",
    "             \"K\", \"Ca\", \"Ba\", \"Fe\", \"Type\"]\n",
    "glass = pd.read_csv(glassurl, names = glasshead, index_col = 0)\n",
    "glass.head()"
   ]
  },
  {
   "cell_type": "code",
   "execution_count": null,
   "metadata": {},
   "outputs": [],
   "source": [
    "fig, ax = plt.subplots(ncols = 3)\n",
    "ax[0].scatter(glass[\"Al\"], glass[\"RI\"], c = glass[\"Type\"])\n",
    "ax[0].set_title(\"Al & RI\")\n",
    "ax[1].scatter(glass[\"Si\"], glass[\"Na\"], c = glass[\"Type\"])\n",
    "ax[1].set_title(\"Si & Na\")\n",
    "ax[2].scatter(glass[\"Al\"], glass[\"Ca\"], c = glass[\"Type\"])\n",
    "ax[2].set_title(\"Al & Ca\")\n",
    "plt.show()"
   ]
  },
  {
   "cell_type": "code",
   "execution_count": null,
   "metadata": {},
   "outputs": [],
   "source": []
  },
  {
   "cell_type": "code",
   "execution_count": null,
   "metadata": {},
   "outputs": [],
   "source": []
  },
  {
   "cell_type": "markdown",
   "metadata": {},
   "source": [
    "**Data Set 3**"
   ]
  },
  {
   "cell_type": "code",
   "execution_count": null,
   "metadata": {},
   "outputs": [],
   "source": []
  },
  {
   "cell_type": "code",
   "execution_count": null,
   "metadata": {},
   "outputs": [],
   "source": []
  },
  {
   "cell_type": "code",
   "execution_count": null,
   "metadata": {},
   "outputs": [],
   "source": []
  },
  {
   "cell_type": "code",
   "execution_count": null,
   "metadata": {},
   "outputs": [],
   "source": []
  },
  {
   "cell_type": "code",
   "execution_count": null,
   "metadata": {},
   "outputs": [],
   "source": []
  },
  {
   "cell_type": "code",
   "execution_count": null,
   "metadata": {},
   "outputs": [],
   "source": []
  }
 ],
 "metadata": {
  "kernelspec": {
   "display_name": "Python 3",
   "language": "python",
   "name": "python3"
  },
  "language_info": {
   "codemirror_mode": {
    "name": "ipython",
    "version": 3
   },
   "file_extension": ".py",
   "mimetype": "text/x-python",
   "name": "python",
   "nbconvert_exporter": "python",
   "pygments_lexer": "ipython3",
   "version": "3.7.0"
  }
 },
 "nbformat": 4,
 "nbformat_minor": 2
}
