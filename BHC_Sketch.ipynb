{
 "cells": [
  {
   "cell_type": "markdown",
   "metadata": {},
   "source": [
    "### Sketch of BHC Algorithm"
   ]
  },
  {
   "cell_type": "code",
   "execution_count": 2,
   "metadata": {},
   "outputs": [],
   "source": [
    "import numpy as np\n",
    "import sklearn.datasets as ds\n",
    "import scipy.linalg as la\n",
    "from scipy import random as rnd\n",
    "from scipy import stats\n",
    "import matplotlib.pyplot as plt\n",
    "import pandas as pd"
   ]
  },
  {
   "cell_type": "markdown",
   "metadata": {},
   "source": [
    "#### Test Data"
   ]
  },
  {
   "cell_type": "code",
   "execution_count": 3,
   "metadata": {},
   "outputs": [
    {
     "data": {
      "image/png": "[encoded data removed]",
      "text/plain": [
       "<Figure size 432x288 with 1 Axes>"
      ]
     },
     "metadata": {
      "needs_background": "light"
     },
     "output_type": "display_data"
    }
   ],
   "source": [
    "# Example data will consist of a mixture of three gaussian distributions with varying parameters. It will be clustered via random draws of a multinomial distribution.\n",
    "\n",
    "# bivariate gaussian params\n",
    "\n",
    "mu1 = np.zeros(2)\n",
    "cov1 = np.eye(2)\n",
    "\n",
    "mu2 = np.array([5, 3])\n",
    "cov2 = np.eye(2) * 2\n",
    "\n",
    "mu3 = np.array([8, 12])\n",
    "cov3 = np.array([3.4, 0, 0, 5.1]).reshape(2, 2)\n",
    "\n",
    "# multinom params\n",
    "\n",
    "p1 = 0.4\n",
    "p2 = 0.3\n",
    "p3 = 1 - p2 - p1\n",
    "\n",
    "# number of total draws\n",
    "draws = 200\n",
    "\n",
    "# random draws\n",
    "rnd.seed(11561)\n",
    "\n",
    "knum = rnd.multinomial(draws, (p1, p2, p3))\n",
    "\n",
    "gaus1 = rnd.multivariate_normal(mu1, cov1, knum[0])\n",
    "gaus2 = rnd.multivariate_normal(mu2, cov2, knum[1])\n",
    "gaus3 = rnd.multivariate_normal(mu3, cov3, knum[2])\n",
    "\n",
    "# join columns into dataframe\n",
    "\n",
    "x1 = pd.Series(np.r_[gaus1[:, 0], gaus2[:, 0], gaus3[:, 0]])\n",
    "x2 = pd.Series(np.r_[gaus1[:, 1], gaus2[:, 1], gaus3[:, 1]])\n",
    "\n",
    "c = pd.Series(np.r_[np.zeros(knum[0]), np.ones(knum[1]), np.ones(knum[2]) * 2])\n",
    "dat = {\"x1\" : x1, \"x2\" : x2, \"c\" : c}\n",
    "\n",
    "data = pd.DataFrame(dat)\n",
    "\n",
    "plt.scatter(data[\"x1\"], data[\"x2\"], c = data[\"c\"])\n",
    "plt.show()"
   ]
  },
  {
   "cell_type": "markdown",
   "metadata": {},
   "source": [
    "#### Script"
   ]
  },
  {
   "cell_type": "code",
   "execution_count": 4,
   "metadata": {},
   "outputs": [],
   "source": [
    "# initialize clusters\n",
    "n = data.shape[0]\n",
    "c = n\n",
    "\n",
    "# initialize priors\n",
    "prior_mu = np.array([np.mean(data.x1), np.mean(data.x2)])\n",
    "prior_cov = np.cov(data.x1, data.x2)\n",
    "\n",
    "# find pair of points with highest probability to merge\n",
    "merge_prob = np.zeros(n)\n",
    "c_assign = np.zeros((n, n)) # cluster assignments\n",
    "c_assign[:,0] = np.arange(0,c) # initially each cluster is 1 data point\n",
    "\n",
    "# initialize means\n",
    "data_matrix = np.array(data.iloc[:,1:])\n",
    "\n",
    "c_means = {}\n",
    "for i in range(len(data_matrix)):\n",
    "    c_means[i] = data_matrix[i,:]\n",
    "\n",
    "# initialize covariance\n",
    "c_cov = {}\n",
    "for i in range(len(data_matrix)):\n",
    "    c_cov[i] = np.identity(data_matrix.shape[1])"
   ]
  },
  {
   "cell_type": "code",
   "execution_count": 5,
   "metadata": {},
   "outputs": [
    {
     "data": {
      "text/plain": [
       "array([0.2974389, 0.       ])"
      ]
     },
     "execution_count": 5,
     "metadata": {},
     "output_type": "execute_result"
    }
   ],
   "source": [
    "a = np.array([c_means[4]])\n",
    "np.mean(a, axis=0)"
   ]
  },
  {
   "cell_type": "code",
   "execution_count": 6,
   "metadata": {},
   "outputs": [],
   "source": [
    "# iterate through each cluster\n",
    "h0 = np.zeros((c,2))\n",
    "for i in range(10):\n",
    "    for j in range(c):\n",
    "        # dummy likelihood for now\n",
    "        h0[i,0] = i\n",
    "        cluster_i = np.array([c_means[i]]) \n",
    "        h0[i,1] = np.sum(stats.multivariate_normal.pdf(np.mean(cluster_i, axis=0), \n",
    "                                                       prior_mu, \n",
    "                                                       prior_cov))\n",
    "    merge = h0.argmax(axis=0)\n",
    "    \n",
    "    # add merged clusters to dict element with same label\n",
    "    c_means[i] = np.array([c_means[i] + c_means[merge[0]]])\n",
    "    \n",
    "    # delete the old cluster\n",
    "    c_means.pop(merge[0])\n",
    "    \n",
    "    # need to record merge probability\n",
    "    merge_prob[i] = merge[1]\n",
    "    \n",
    "    c -= 1 # one less cluster due to merge\n",
    "    h0 = np.zeros((c,2)) # reset h0"
   ]
  },
  {
   "cell_type": "code",
   "execution_count": 8,
   "metadata": {},
   "outputs": [
    {
     "data": {
      "text/plain": [
       "array([9, 9], dtype=int64)"
      ]
     },
     "execution_count": 8,
     "metadata": {},
     "output_type": "execute_result"
    }
   ],
   "source": [
    "merge"
   ]
  },
  {
   "cell_type": "code",
   "execution_count": null,
   "metadata": {
    "collapsed": true
   },
   "outputs": [],
   "source": []
  }
 ],
 "metadata": {
  "kernelspec": {
   "display_name": "Python 3",
   "language": "python",
   "name": "python3"
  },
  "language_info": {
   "codemirror_mode": {
    "name": "ipython",
    "version": 3
   },
   "file_extension": ".py",
   "mimetype": "text/x-python",
   "name": "python",
   "nbconvert_exporter": "python",
   "pygments_lexer": "ipython3",
   "version": "3.7.0"
  }
 },
 "nbformat": 4,
 "nbformat_minor": 2
}
