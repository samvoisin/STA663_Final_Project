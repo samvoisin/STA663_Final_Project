{
 "cells": [
  {
   "cell_type": "markdown",
   "metadata": {},
   "source": [
    "# Scenerio Testing BHC Module"
   ]
  },
  {
   "cell_type": "markdown",
   "metadata": {},
   "source": [
    "### Test Scenerios:\n",
    "\n",
    "1) Simulated data clusters: Three component Gaussian mixture\n",
    "\n",
    "2) Real data set presented in BHC paper: Glass data set"
   ]
  },
  {
   "cell_type": "code",
   "execution_count": 1,
   "metadata": {},
   "outputs": [],
   "source": [
    "import numpy as np\n",
    "import pandas as pd\n",
    "from scipy import stats\n",
    "from scipy import linalg as la\n",
    "from scipy import random as rnd\n",
    "from scipy.special import gamma\n",
    "import matplotlib.pyplot as plt\n",
    "import cProfile\n",
    "\n",
    "import bhc"
   ]
  },
  {
   "cell_type": "markdown",
   "metadata": {},
   "source": [
    "### Data Sets"
   ]
  },
  {
   "cell_type": "markdown",
   "metadata": {},
   "source": [
    "**Three component Gaussian mixture:**"
   ]
  },
  {
   "cell_type": "code",
   "execution_count": 2,
   "metadata": {},
   "outputs": [],
   "source": [
    "# bivariate gaussian params\n",
    "mu1 = np.zeros(2)\n",
    "cov1 = np.eye(2)\n",
    "\n",
    "mu2 = np.array([5, 3])\n",
    "cov2 = np.eye(2) * 2\n",
    "\n",
    "mu3 = np.array([8, 12])\n",
    "cov3 = np.array([3.4, 0, 0, 5.1]).reshape(2, 2)\n",
    "\n",
    "# multinom params\n",
    "p1 = 0.3\n",
    "p2 = 0.4\n",
    "p3 = 1 - p2 - p1\n",
    "\n",
    "# number of total draws\n",
    "draws = 100"
   ]
  },
  {
   "cell_type": "code",
   "execution_count": 3,
   "metadata": {},
   "outputs": [],
   "source": [
    "# random draws\n",
    "rnd.seed(1)\n",
    "\n",
    "knum = rnd.multinomial(draws, (p1, p2, p3))\n",
    "\n",
    "gaus1 = rnd.multivariate_normal(mu1, cov1, knum[0])\n",
    "gaus2 = rnd.multivariate_normal(mu2, cov2, knum[1])\n",
    "gaus3 = rnd.multivariate_normal(mu3, cov3, knum[2])\n",
    "\n",
    "# join columns into dataframe\n",
    "x1 = pd.Series(np.r_[gaus1[:, 0], gaus2[:, 0], gaus3[:, 0]])\n",
    "x2 = pd.Series(np.r_[gaus1[:, 1], gaus2[:, 1], gaus3[:, 1]])\n",
    "c = pd.Series(np.r_[np.zeros(knum[0]), np.ones(knum[1]), np.ones(knum[2]) * 2])\n",
    "dat = {\"x1\" : x1, \"x2\" : x2, \"c\" : c}\n",
    "clustData = pd.DataFrame(dat)"
   ]
  },
  {
   "cell_type": "code",
   "execution_count": 4,
   "metadata": {},
   "outputs": [
    {
     "data": {
      "image/png": "[encoded data removed]",
      "text/plain": [
       "<Figure size 432x288 with 1 Axes>"
      ]
     },
     "metadata": {
      "needs_background": "light"
     },
     "output_type": "display_data"
    }
   ],
   "source": [
    "plt.scatter(clustData[\"x1\"], clustData[\"x2\"], c = clustData[\"c\"])\n",
    "plt.title(\"Visualizing the Clusters\")\n",
    "plt.show()"
   ]
  },
  {
   "cell_type": "code",
   "execution_count": 5,
   "metadata": {},
   "outputs": [],
   "source": [
    "# priors distribution hyper-parameters\n",
    "gcPriors = {\n",
    "    \"clusterConcentrationPrior\" : {\"alpha\" : 50},\n",
    "    \"diffuseInvWishPrior\" : {\"df\" : 2, \"scale\" : np.eye(2)}, # inv wishart params\n",
    "    \"diffuseNormPrior\" : {\"loc\" : np.array([1,0]),\n",
    "                          \"scale\" : np.eye(2),\n",
    "                          \"meanscale\" : 1}, # mvtnormal params\n",
    "}"
   ]
  },
  {
   "cell_type": "code",
   "execution_count": 6,
   "metadata": {},
   "outputs": [],
   "source": [
    "gc = clustData.values[:, :2]\n",
    "gctree = bhc.HierarchyTree(X = gc, allParams = gcPriors)"
   ]
  },
  {
   "cell_type": "code",
   "execution_count": 8,
   "metadata": {},
   "outputs": [
    {
     "name": "stdout",
     "output_type": "stream",
     "text": [
      "         41663400 function calls in 96.324 seconds\n",
      "\n",
      "   Ordered by: standard name\n",
      "\n",
      "   ncalls  tottime  percall  cumtime  percall filename:lineno(function)\n",
      "        1    0.000    0.000   96.324   96.324 <string>:1(<module>)\n",
      "   499950   26.251    0.000   84.991    0.000 __init__.py:10(norm_inv_wish_H1)\n",
      "   166650    0.420    0.000   60.549    0.000 __init__.py:103(posterior_join_k)\n",
      "   499950    1.247    0.000   86.238    0.000 __init__.py:12(eval_H1)\n",
      "   166650    2.347    0.000   95.736    0.001 __init__.py:13(__init__)\n",
      "       99    0.000    0.000    0.077    0.001 __init__.py:14(get_max_posterior)\n",
      "   166551    0.049    0.000    0.049    0.000 __init__.py:23(<lambda>)\n",
      "   333300    0.221    0.000    0.221    0.000 __init__.py:42(eval_H2)\n",
      "       99    0.000    0.000    0.000    0.000 __init__.py:42(update_cluster_list)\n",
      "   499950    2.172    0.000    2.172    0.000 __init__.py:50(<listcomp>)\n",
      "   499950    0.197    0.000    0.197    0.000 __init__.py:51(<lambda>)\n",
      "   499950    1.590    0.000    1.590    0.000 __init__.py:52(<listcomp>)\n",
      "        1    0.190    0.190   96.324   96.324 __init__.py:52(grow_tree)\n",
      "   499950    2.784    0.000    2.784    0.000 __init__.py:52(prop_pi_k)\n",
      "   499950    0.140    0.000    0.140    0.000 __init__.py:53(<lambda>)\n",
      "       99    0.321    0.003   96.057    0.970 __init__.py:61(<listcomp>)\n",
      "        1    0.000    0.000    0.000    0.000 __init__.py:73(<listcomp>)\n",
      "   333300    1.242    0.000   60.575    0.000 __init__.py:78(marginal_clust_k)\n",
      "   999900    0.510    0.000    6.274    0.000 _methods.py:45(_all)\n",
      "   999900    4.678    0.000   17.844    0.000 _util.py:193(_asarray_validated)\n",
      "   999900    0.553    0.000    0.965    0.000 base.py:1190(isspmatrix)\n",
      "   999900    7.184    0.000   33.873    0.000 basic.py:983(det)\n",
      "   999900    0.467    0.000    0.654    0.000 core.py:6200(isMaskedArray)\n",
      "        2    0.000    0.000    0.000    0.000 cycler.py:227(<genexpr>)\n",
      "   999900    0.824    0.000    0.824    0.000 flinalg.py:22(has_column_major_storage)\n",
      "   999900    5.684    0.000    8.382    0.000 flinalg.py:29(get_flinalg_funcs)\n",
      "   499950    1.007    0.000    6.314    0.000 fromnumeric.py:1821(sum)\n",
      "   499950    1.485    0.000    5.123    0.000 fromnumeric.py:64(_wrapreduction)\n",
      "   999900    3.348    0.000   11.547    0.000 function_base.py:398(asarray_chkfinite)\n",
      "   999900    0.246    0.000    0.246    0.000 misc.py:177(_datacopied)\n",
      "   999900    0.454    0.000    1.068    0.000 numeric.py:433(asarray)\n",
      "  1333200    0.615    0.000    1.239    0.000 numeric.py:504(asanyarray)\n",
      "   666600    1.000    0.000    8.634    0.000 shape_base.py:182(vstack)\n",
      "   666600    0.869    0.000    5.154    0.000 shape_base.py:234(<listcomp>)\n",
      "  1333200    2.608    0.000    4.285    0.000 shape_base.py:63(atleast_2d)\n",
      "   999999    0.885    0.000    1.271    0.000 {built-in method _functools.reduce}\n",
      "        1    0.000    0.000   96.324   96.324 {built-in method builtins.exec}\n",
      "  1999800    1.050    0.000    1.050    0.000 {built-in method builtins.getattr}\n",
      "  2499750    0.783    0.000    0.783    0.000 {built-in method builtins.isinstance}\n",
      "  3333100    0.555    0.000    0.555    0.000 {built-in method builtins.len}\n",
      "   166650    0.142    0.000    0.142    0.000 {built-in method builtins.max}\n",
      "  2333100    1.238    0.000    1.238    0.000 {built-in method numpy.core.multiarray.array}\n",
      "   666600    2.480    0.000    2.480    0.000 {built-in method numpy.core.multiarray.concatenate}\n",
      "  2499750    7.163    0.000    7.163    0.000 {built-in method numpy.core.multiarray.dot}\n",
      "   999900    0.857    0.000    7.131    0.000 {method 'all' of 'numpy.ndarray' objects}\n",
      "  3333099    0.594    0.000    0.594    0.000 {method 'append' of 'list' objects}\n",
      "        1    0.000    0.000    0.000    0.000 {method 'disable' of '_lsprof.Profiler' objects}\n",
      "        7    0.000    0.000    0.000    0.000 {method 'get' of 'dict' objects}\n",
      "   499950    0.119    0.000    0.119    0.000 {method 'items' of 'dict' objects}\n",
      "      100    0.000    0.000    0.000    0.000 {method 'keys' of 'dict' objects}\n",
      "  1499850    9.283    0.000    9.283    0.000 {method 'reduce' of 'numpy.ufunc' objects}\n",
      "      198    0.000    0.000    0.000    0.000 {method 'remove' of 'list' objects}\n",
      "   999900    0.329    0.000    0.329    0.000 {method 'sort' of 'list' objects}\n",
      "   166650    0.141    0.000    0.141    0.000 {method 'union' of 'set' objects}\n",
      "       92    0.000    0.000    0.000    0.000 {method 'update' of 'dict' objects}\n",
      "\n",
      "\n"
     ]
    }
   ],
   "source": [
    "gctree.grow_tree()"
   ]
  },
  {
   "cell_type": "code",
   "execution_count": null,
   "metadata": {},
   "outputs": [],
   "source": [
    "gctree.tierList"
   ]
  },
  {
   "cell_type": "code",
   "execution_count": null,
   "metadata": {},
   "outputs": [],
   "source": [
    "# pre prunning tree summary\n",
    "#gctree.tree_summary()\n",
    "gctree.generate_clust_frame()"
   ]
  },
  {
   "cell_type": "code",
   "execution_count": null,
   "metadata": {},
   "outputs": [],
   "source": [
    "gctree.clustDF.head()"
   ]
  },
  {
   "cell_type": "code",
   "execution_count": null,
   "metadata": {},
   "outputs": [],
   "source": [
    "plt.scatter(\"Dim_0\", \"Dim_1\", c = \"clustnum\", data=gctree.clustDF)\n",
    "plt.show()"
   ]
  },
  {
   "cell_type": "code",
   "execution_count": null,
   "metadata": {},
   "outputs": [],
   "source": [
    "gctree.prune_tree()"
   ]
  },
  {
   "cell_type": "code",
   "execution_count": 13,
   "metadata": {},
   "outputs": [
    {
     "data": {
      "text/plain": [
       "[0, 1, 2, 3, 4, 5, 6, 7]"
      ]
     },
     "execution_count": 13,
     "metadata": {},
     "output_type": "execute_result"
    }
   ],
   "source": [
    "gctree.tierList"
   ]
  },
  {
   "cell_type": "code",
   "execution_count": 16,
   "metadata": {},
   "outputs": [],
   "source": [
    "gctree.generate_clust_frame(tier_level=2)"
   ]
  },
  {
   "cell_type": "code",
   "execution_count": 17,
   "metadata": {},
   "outputs": [
    {
     "data": {
      "image/png": "[encoded data removed]",
      "text/plain": [
       "<Figure size 432x288 with 1 Axes>"
      ]
     },
     "metadata": {
      "needs_background": "light"
     },
     "output_type": "display_data"
    }
   ],
   "source": [
    "plt.scatter(\"Dim_0\", \"Dim_1\", c = \"clustnum\", data=gctree.clustDF)\n",
    "plt.show()"
   ]
  },
  {
   "cell_type": "code",
   "execution_count": null,
   "metadata": {},
   "outputs": [],
   "source": [
    "plt.scatter(gc[:, 0], gc[:, 1])\n",
    "plt.show()"
   ]
  },
  {
   "cell_type": "markdown",
   "metadata": {},
   "source": [
    "**Glass Data Set:**"
   ]
  },
  {
   "cell_type": "code",
   "execution_count": null,
   "metadata": {},
   "outputs": [],
   "source": [
    "glassurl = \"https://archive.ics.uci.edu/ml/machine-learning-databases/glass/glass.data\"\n",
    "glasshead = [\"ID\", \"RI\", \"Na\", \"Mg\", \"Al\", \"Si\",\n",
    "             \"K\", \"Ca\", \"Ba\", \"Fe\", \"Type\"]\n",
    "glass = pd.read_csv(glassurl, names = glasshead, index_col = 0)\n",
    "glass.head()"
   ]
  },
  {
   "cell_type": "code",
   "execution_count": null,
   "metadata": {},
   "outputs": [],
   "source": [
    "fig, ax = plt.subplots(ncols = 3)\n",
    "ax[0].scatter(glass[\"Al\"], glass[\"RI\"], c = glass[\"Type\"])\n",
    "ax[0].set_title(\"Al & RI\")\n",
    "ax[1].scatter(glass[\"Si\"], glass[\"Na\"], c = glass[\"Type\"])\n",
    "ax[1].set_title(\"Si & Na\")\n",
    "ax[2].scatter(glass[\"Al\"], glass[\"Ca\"], c = glass[\"Type\"])\n",
    "ax[2].set_title(\"Al & Ca\")\n",
    "plt.show()"
   ]
  },
  {
   "cell_type": "code",
   "execution_count": null,
   "metadata": {},
   "outputs": [],
   "source": []
  },
  {
   "cell_type": "code",
   "execution_count": null,
   "metadata": {},
   "outputs": [],
   "source": []
  },
  {
   "cell_type": "code",
   "execution_count": null,
   "metadata": {},
   "outputs": [],
   "source": []
  },
  {
   "cell_type": "markdown",
   "metadata": {},
   "source": [
    "**Data Set 3**"
   ]
  },
  {
   "cell_type": "code",
   "execution_count": null,
   "metadata": {},
   "outputs": [],
   "source": []
  }
 ],
 "metadata": {
  "kernelspec": {
   "display_name": "Python 3",
   "language": "python",
   "name": "python3"
  },
  "language_info": {
   "codemirror_mode": {
    "name": "ipython",
    "version": 3
   },
   "file_extension": ".py",
   "mimetype": "text/x-python",
   "name": "python",
   "nbconvert_exporter": "python",
   "pygments_lexer": "ipython3",
   "version": "3.7.2"
  }
 },
 "nbformat": 4,
 "nbformat_minor": 2
}
