{
 "cells": [
  {
   "cell_type": "markdown",
   "metadata": {},
   "source": [
    "### Sketch of BHC Algorithm"
   ]
  },
  {
   "cell_type": "code",
   "execution_count": 16,
   "metadata": {
    "collapsed": false
   },
   "outputs": [],
   "source": [
    "import numpy as np\n",
    "import sklearn.datasets as ds\n",
    "import scipy.linalg as la\n",
    "from scipy import random as rnd\n",
    "from scipy import stats\n",
    "import matplotlib.pyplot as plt\n",
    "import pandas as pd"
   ]
  },
  {
   "cell_type": "markdown",
   "metadata": {},
   "source": [
    "#### Test Data"
   ]
  },
  {
   "cell_type": "code",
   "execution_count": 14,
   "metadata": {
    "collapsed": false
   },
   "outputs": [
    {
     "data": {
      "image/png": "[encoded data removed]",
      "text/plain": [
       "<matplotlib.figure.Figure at 0x7ff071a21550>"
      ]
     },
     "metadata": {},
     "output_type": "display_data"
    }
   ],
   "source": [
    "# Example data will consist of a mixture of three gaussian distributions with varying parameters. It will be clustered via random draws of a multinomial distribution.\n",
    "\n",
    "# bivariate gaussian params\n",
    "\n",
    "mu1 = np.zeros(2)\n",
    "cov1 = np.eye(2)\n",
    "\n",
    "mu2 = np.array([5, 3])\n",
    "cov2 = np.eye(2) * 2\n",
    "\n",
    "mu3 = np.array([8, 12])\n",
    "cov3 = np.array([3.4, 0, 0, 5.1]).reshape(2, 2)\n",
    "\n",
    "# multinom params\n",
    "\n",
    "p1 = 0.4\n",
    "p2 = 0.3\n",
    "p3 = 1 - p2 - p1\n",
    "\n",
    "# number of total draws\n",
    "draws = 200\n",
    "\n",
    "# random draws\n",
    "rnd.seed(11561)\n",
    "\n",
    "knum = rnd.multinomial(draws, (p1, p2, p3))\n",
    "\n",
    "gaus1 = rnd.multivariate_normal(mu1, cov1, knum[0])\n",
    "gaus2 = rnd.multivariate_normal(mu2, cov2, knum[1])\n",
    "gaus3 = rnd.multivariate_normal(mu3, cov3, knum[2])\n",
    "\n",
    "# join columns into dataframe\n",
    "\n",
    "x1 = pd.Series(np.r_[gaus1[:, 0], gaus2[:, 0], gaus3[:, 0]])\n",
    "x2 = pd.Series(np.r_[gaus1[:, 1], gaus2[:, 1], gaus3[:, 1]])\n",
    "\n",
    "c = pd.Series(np.r_[np.zeros(knum[0]), np.ones(knum[1]), np.ones(knum[2]) * 2])\n",
    "dat = {\"x1\" : x1, \"x2\" : x2, \"c\" : c}\n",
    "\n",
    "data = pd.DataFrame(dat)\n",
    "\n",
    "plt.scatter(data[\"x1\"], data[\"x2\"], c = data[\"c\"])\n",
    "plt.show()"
   ]
  },
  {
   "cell_type": "markdown",
   "metadata": {},
   "source": [
    "#### Script"
   ]
  },
  {
   "cell_type": "code",
   "execution_count": 18,
   "metadata": {
    "collapsed": false
   },
   "outputs": [
    {
     "data": {
      "text/plain": [
       "array([2, 3, 4, 1, 4, 3, 4, 4, 1, 2, 3, 4, 2, 4, 3, 1, 1, 1, 2, 1, 4, 4, 3,\n",
       "       3, 2, 4, 1, 4, 3, 3, 1, 2, 2, 1, 1, 3, 4, 2, 2, 4, 1, 4, 3, 3, 4, 1,\n",
       "       1, 2, 3, 1, 4, 1, 2, 2, 1, 1, 1, 2, 4, 4, 2, 4, 1, 2, 3, 1, 1, 4, 4,\n",
       "       3, 2, 3, 3, 1, 2, 3, 3, 1, 2, 1, 2, 4, 1, 1, 3, 3, 1, 1, 1, 4, 2, 1,\n",
       "       2, 3, 4, 1, 3, 2, 1, 3, 4, 3, 4, 2, 4, 4, 3, 2, 3, 4, 2, 2, 2, 4, 3,\n",
       "       1, 4, 4, 3, 4, 2, 4, 4, 3, 4, 4, 4, 1, 1, 2, 2, 2, 3, 2, 3, 1, 4, 4,\n",
       "       1, 4, 1, 3, 3, 3, 3, 1, 4, 1, 4, 1, 3, 4, 3, 2, 4, 4, 1, 1, 4, 3, 2,\n",
       "       4, 2, 2, 4, 2, 2, 2, 4, 2, 3, 1, 2, 1, 1, 2, 2, 4, 2, 3, 2, 4, 1, 4,\n",
       "       2, 2, 2, 2, 2, 3, 1, 1, 1, 2, 2, 2, 4, 1, 1, 1])"
      ]
     },
     "execution_count": 18,
     "metadata": {},
     "output_type": "execute_result"
    }
   ],
   "source": [
    "assign = rnd.randint(1,5, size=200)\n",
    "data"
   ]
  },
  {
   "cell_type": "code",
   "execution_count": 19,
   "metadata": {
    "collapsed": false
   },
   "outputs": [
    {
     "ename": "IndentationError",
     "evalue": "unexpected indent (<ipython-input-19-883eedcade5c>, line 18)",
     "output_type": "error",
     "traceback": [
      "\u001b[0;36m  File \u001b[0;32m\"<ipython-input-19-883eedcade5c>\"\u001b[0;36m, line \u001b[0;32m18\u001b[0m\n\u001b[0;31m    c_mean = mean(data)\u001b[0m\n\u001b[0m    ^\u001b[0m\n\u001b[0;31mIndentationError\u001b[0m\u001b[0;31m:\u001b[0m unexpected indent\n"
     ]
    }
   ],
   "source": [
    "# initialize clusters\n",
    "n = data.shape[0]\n",
    "c = n\n",
    "\n",
    "# initialize priors\n",
    "prior_mu = np.array([mean(data.x1), mean(data.x2)])\n",
    "prior_cov = np.cov(data.x1, data.x2)\n",
    "\n",
    "# find pair of points with highest probability to merge\n",
    "c_assign = np.zeros((n, n))\n",
    "\n",
    "# iterate through each point\n",
    "#for i in range(n):\n",
    "    \n",
    "    \n",
    "    \n",
    "    # iterate through each remaining cluster\n",
    "    c_mean = mean(data)\n",
    "    h1 = stats.multivariate_normal.pdf()\n",
    "    h2 = \n",
    "    \n",
    "    r_k = pi_k*h1/\n",
    "    "
   ]
  },
  {
   "cell_type": "code",
   "execution_count": null,
   "metadata": {
    "collapsed": true
   },
   "outputs": [],
   "source": []
  }
 ],
 "metadata": {
  "kernelspec": {
   "display_name": "Python 3",
   "language": "python",
   "name": "python3"
  },
  "language_info": {
   "codemirror_mode": {
    "name": "ipython",
    "version": 3
   },
   "file_extension": ".py",
   "mimetype": "text/x-python",
   "name": "python",
   "nbconvert_exporter": "python",
   "pygments_lexer": "ipython3",
   "version": "3.5.2"
  }
 },
 "nbformat": 4,
 "nbformat_minor": 2
}
