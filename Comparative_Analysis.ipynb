{
 "cells": [
  {
   "cell_type": "markdown",
   "metadata": {},
   "source": [
    "# Scenario Testing BHC Module"
   ]
  },
  {
   "cell_type": "code",
   "execution_count": null,
   "metadata": {},
   "outputs": [],
   "source": [
    "import numpy as np\n",
    "import pandas as pd\n",
    "from scipy import stats\n",
    "from scipy import linalg as la\n",
    "from scipy import random as rnd\n",
    "from scipy.special import gamma\n",
    "import matplotlib.pyplot as plt\n",
    "from sklearn import datasets as data\n",
    "from sklearn import metrics\n",
    "\n",
    "# load our package\n",
    "import bhc"
   ]
  },
  {
   "cell_type": "markdown",
   "metadata": {},
   "source": [
    "## Metrics"
   ]
  },
  {
   "cell_type": "code",
   "execution_count": null,
   "metadata": {},
   "outputs": [],
   "source": [
    "def purity_score(y_true, y_pred):\n",
    "    \"\"\"\n",
    "    Inputs:\n",
    "    y_true - an array of the true cluster assignments of type int\n",
    "    y_pred - an array of the predicted cluster assignments of type int\n",
    "    \n",
    "    Output:\n",
    "    Cluster purity metric (range [0,1]) for the cluster assignments \n",
    "    relative to their true values.\n",
    "    \n",
    "    Reference:\n",
    "    https://en.wikipedia.org/wiki/Cluster_analysis#Evaluation_and_assessment\n",
    "    \"\"\"\n",
    "    \n",
    "    from sklearn import metrics\n",
    "    \n",
    "    # build confusion matrix\n",
    "    conf_mat = metrics.cluster.contingency_matrix(y_true, y_pred)\n",
    "    #print(conf_mat)\n",
    "    \n",
    "    # calculate score\n",
    "    score = np.sum(np.amax(conf_mat, axis=0))/np.sum(conf_mat)\n",
    "    \n",
    "    return np.round(score,2)"
   ]
  },
  {
   "cell_type": "code",
   "execution_count": null,
   "metadata": {},
   "outputs": [],
   "source": [
    "def adj_purity_score(y_true, y_pred, n_clust_true):\n",
    "    \"\"\"\n",
    "    Inputs:\n",
    "    y_true - an array of the true cluster assignments of type int\n",
    "    y_pred - an array of the predicted cluster assignments of type int\n",
    "    n_clust_true - int, the true number of classes in the data \n",
    "    \n",
    "    Output:\n",
    "    Cluster purity metric (range [0,1]) for the cluster assignments \n",
    "    relative to their true values.\n",
    "    \n",
    "    Reference:\n",
    "    https://en.wikipedia.org/wiki/Cluster_analysis#Evaluation_and_assessment\n",
    "    \"\"\"\n",
    "    \n",
    "    from sklearn import metrics\n",
    "    \n",
    "    # build confusion matrix\n",
    "    conf_mat = metrics.cluster.contingency_matrix(y_true, y_pred)\n",
    "    \n",
    "    # find max number of points for each class\n",
    "    class_max = np.amax(conf_mat, axis=0)\n",
    "    class_max.sort()\n",
    "    # calculate score\n",
    "    score = np.sum(class_max[::-1][0:n_clust_true])/np.sum(conf_mat)\n",
    "    \n",
    "    return np.round(score,2)"
   ]
  },
  {
   "cell_type": "code",
   "execution_count": null,
   "metadata": {},
   "outputs": [],
   "source": [
    "test= np.array([[1,2,3,4,5],[0,3,1,2,8]])\n",
    "max_test = test.max(axis=0)\n",
    "max_test.sort()\n",
    "max_test[::-1][0:3]"
   ]
  },
  {
   "cell_type": "markdown",
   "metadata": {},
   "source": [
    "## Three component Gaussian mixture (simulated data set):"
   ]
  },
  {
   "cell_type": "code",
   "execution_count": null,
   "metadata": {},
   "outputs": [],
   "source": [
    "n_dim = 3 # dimensionality of problem\n",
    "\n",
    "# bivariate gaussian params\n",
    "mu1 = np.zeros(3)\n",
    "cov1 = np.eye(3)\n",
    "\n",
    "mu2 = np.array([5, 3, 0])\n",
    "cov2 = np.eye(3)\n",
    "\n",
    "mu3 = np.array([8, 12, 1])\n",
    "cov3 = np.eye(3)* 0.5\n",
    "\n",
    "# multinom params\n",
    "p1 = 0.3\n",
    "p2 = 0.4\n",
    "p3 = 1 - p2 - p1\n",
    "\n",
    "# number of total draws\n",
    "draws = 100"
   ]
  },
  {
   "cell_type": "code",
   "execution_count": null,
   "metadata": {},
   "outputs": [],
   "source": [
    "# random draws\n",
    "rnd.seed(1)\n",
    "\n",
    "knum = rnd.multinomial(draws, (p1, p2, p3))\n",
    "\n",
    "gaus1 = rnd.multivariate_normal(mu1, cov1, knum[0])\n",
    "gaus2 = rnd.multivariate_normal(mu2, cov2, knum[1])\n",
    "gaus3 = rnd.multivariate_normal(mu3, cov3, knum[2])\n",
    "\n",
    "# join columns into dataframe\n",
    "x1 = pd.Series(np.r_[gaus1[:, 0], gaus2[:, 0], gaus3[:, 0]])\n",
    "x2 = pd.Series(np.r_[gaus1[:, 1], gaus2[:, 1], gaus3[:, 1]])\n",
    "x3 = pd.Series(np.r_[gaus1[:, 2], gaus2[:, 2], gaus3[:, 2]])\n",
    "c = pd.Series(np.r_[np.zeros(knum[0]), np.ones(knum[1]), np.ones(knum[2]) * 2])\n",
    "dat = {\"x1\" : x1, \"x2\" : x2, \"x3\" : x3, \"c\" : c}\n",
    "clustData = pd.DataFrame(dat)"
   ]
  },
  {
   "cell_type": "code",
   "execution_count": null,
   "metadata": {},
   "outputs": [],
   "source": [
    "plt.scatter(clustData[\"x1\"], clustData[\"x2\"], c = clustData[\"c\"])\n",
    "plt.title(\"Visualizing the Clusters\")\n",
    "plt.show()"
   ]
  },
  {
   "cell_type": "markdown",
   "metadata": {},
   "source": [
    "### Using BHC"
   ]
  },
  {
   "cell_type": "code",
   "execution_count": null,
   "metadata": {},
   "outputs": [],
   "source": [
    "# standardize data\n",
    "clustData_std = (clustData.values[:, :3] - \n",
    "                 clustData.values[:, :3].mean(axis = 0))/(clustData.values[:, :3].std(axis=0))\n",
    "clustData_std.mean(axis=0)"
   ]
  },
  {
   "cell_type": "code",
   "execution_count": null,
   "metadata": {},
   "outputs": [],
   "source": [
    "# priors distribution hyper-parameters\n",
    "gcPriors = {\n",
    "    \"clusterConcentrationPrior\" : {\"alpha\" : 0.0001},\n",
    "    \"diffuseInvWishPrior\" : {\"df\" : 3, \"scale\" : np.eye(3)}, # inv wishart params\n",
    "    \"diffuseNormPrior\" : {\"loc\" : clustData.values[:, :3].mean(axis=0),\n",
    "                          \"scale\" : np.eye(3),\n",
    "                          \"meanscale\" : 1}, # mvtnormal params\n",
    "}"
   ]
  },
  {
   "cell_type": "code",
   "execution_count": null,
   "metadata": {},
   "outputs": [],
   "source": [
    "gc = clustData.values[:, :3] #clustData_std\n",
    "gctree = bhc.HierarchyTree(X = gc, allParams = gcPriors)"
   ]
  },
  {
   "cell_type": "code",
   "execution_count": null,
   "metadata": {},
   "outputs": [],
   "source": [
    "gctree.grow_tree()"
   ]
  },
  {
   "cell_type": "code",
   "execution_count": null,
   "metadata": {},
   "outputs": [],
   "source": [
    "# pre prunning tree summary\n",
    "gctree.tree_summary()"
   ]
  },
  {
   "cell_type": "code",
   "execution_count": null,
   "metadata": {},
   "outputs": [],
   "source": [
    "gctree.prune_tree()"
   ]
  },
  {
   "cell_type": "code",
   "execution_count": null,
   "metadata": {},
   "outputs": [],
   "source": [
    "gctree.tree_summary()"
   ]
  },
  {
   "cell_type": "code",
   "execution_count": null,
   "metadata": {},
   "outputs": [],
   "source": [
    "gctree.generate_clust_frame()"
   ]
  },
  {
   "cell_type": "code",
   "execution_count": null,
   "metadata": {},
   "outputs": [],
   "source": [
    "plt.scatter(\"Dim_0\", \"Dim_1\", c = \"clustnum\", data=gctree.clustDF)\n",
    "plt.show()"
   ]
  },
  {
   "cell_type": "code",
   "execution_count": null,
   "metadata": {},
   "outputs": [],
   "source": [
    "purity_score(clustData[\"c\"], gctree.clustDF[\"clustnum\"])"
   ]
  },
  {
   "cell_type": "code",
   "execution_count": null,
   "metadata": {},
   "outputs": [],
   "source": [
    "adj_purity_score(clustData[\"c\"], gctree.clustDF[\"clustnum\"], n_dim)"
   ]
  },
  {
   "cell_type": "markdown",
   "metadata": {},
   "source": [
    "### Using sklearn hierarchical clustering"
   ]
  },
  {
   "cell_type": "code",
   "execution_count": null,
   "metadata": {},
   "outputs": [],
   "source": [
    "from sklearn.cluster import AgglomerativeClustering"
   ]
  },
  {
   "cell_type": "code",
   "execution_count": null,
   "metadata": {},
   "outputs": [],
   "source": [
    "gc_tree_cv = []\n",
    "for n_clust in range(1,10):\n",
    "    gc_tree1 = AgglomerativeClustering(n_clusters = n_clust)\n",
    "    gc_tree1.fit(gc)\n",
    "    gc_tree_cv.append((n_clust, \n",
    "                       purity_score(clustData[\"c\"], gc_tree1.labels_),\n",
    "                       adj_purity_score(clustData[\"c\"], gc_tree1.labels_, n_dim)\n",
    "                      ))"
   ]
  },
  {
   "cell_type": "code",
   "execution_count": null,
   "metadata": {},
   "outputs": [],
   "source": [
    "gc_tree_cv"
   ]
  },
  {
   "cell_type": "markdown",
   "metadata": {},
   "source": [
    "### Using k-means clustering"
   ]
  },
  {
   "cell_type": "code",
   "execution_count": null,
   "metadata": {},
   "outputs": [],
   "source": [
    "from sklearn.cluster import k_means"
   ]
  },
  {
   "cell_type": "code",
   "execution_count": null,
   "metadata": {},
   "outputs": [],
   "source": [
    "gc_kmeans_cv = []\n",
    "for n_clust in range(1,10):\n",
    "    centr, km_labs, inert = k_means(gc, n_clusters = n_clust)\n",
    "    gc_kmeans_cv.append((n_clust, \n",
    "                         purity_score(clustData[\"c\"], km_labs),\n",
    "                         adj_purity_score(clustData[\"c\"], km_labs, n_dim)\n",
    "                        ))"
   ]
  },
  {
   "cell_type": "code",
   "execution_count": null,
   "metadata": {},
   "outputs": [],
   "source": [
    "gc_kmeans_cv"
   ]
  },
  {
   "cell_type": "markdown",
   "metadata": {},
   "source": [
    "## Computational Speed"
   ]
  },
  {
   "cell_type": "code",
   "execution_count": null,
   "metadata": {},
   "outputs": [],
   "source": [
    "%%timeit -r3 -n3\n",
    "gctree = bhc.HierarchyTree(X = gc, allParams = gcPriors)\n",
    "gctree.grow_tree()"
   ]
  },
  {
   "cell_type": "code",
   "execution_count": null,
   "metadata": {},
   "outputs": [],
   "source": [
    "%%timeit -r3 -n3\n",
    "gc_tree1 = AgglomerativeClustering(n_clusters = 10)\n",
    "gc_tree1.fit(gc)"
   ]
  },
  {
   "cell_type": "code",
   "execution_count": null,
   "metadata": {},
   "outputs": [],
   "source": [
    "%%timeit -r3 -n3\n",
    "centr, km_labs, inert = k_means(gc, n_clusters = 10)"
   ]
  },
  {
   "cell_type": "markdown",
   "metadata": {},
   "source": [
    "## Iris data"
   ]
  },
  {
   "cell_type": "code",
   "execution_count": null,
   "metadata": {},
   "outputs": [],
   "source": [
    "iris = data.load_iris()"
   ]
  },
  {
   "cell_type": "code",
   "execution_count": null,
   "metadata": {},
   "outputs": [],
   "source": [
    "iris.data.shape"
   ]
  },
  {
   "cell_type": "code",
   "execution_count": null,
   "metadata": {},
   "outputs": [],
   "source": [
    "n_dim_iris = np.unique(iris.target).shape[0]\n",
    "n_dim_iris"
   ]
  },
  {
   "cell_type": "code",
   "execution_count": null,
   "metadata": {},
   "outputs": [],
   "source": [
    "np.unique(iris.target)"
   ]
  },
  {
   "cell_type": "code",
   "execution_count": null,
   "metadata": {},
   "outputs": [],
   "source": [
    "# standardize data\n",
    "iris_data_std = (iris.data - iris.data.mean(axis=0))/(iris.data.std(axis=0))"
   ]
  },
  {
   "cell_type": "markdown",
   "metadata": {},
   "source": [
    "### Using BHC"
   ]
  },
  {
   "cell_type": "code",
   "execution_count": null,
   "metadata": {},
   "outputs": [],
   "source": [
    "k = iris.data.shape[1]\n",
    "# priors distribution hyper-parameters\n",
    "irisPriors = {\n",
    "    \"clusterConcentrationPrior\" : {\"alpha\" : 0.0001},\n",
    "    \"diffuseInvWishPrior\" : {\"df\" : 4, \"scale\" : np.eye(k)}, # inv wishart params\n",
    "    \"diffuseNormPrior\" : {\"loc\" : iris_data_std.mean(axis = 0),\n",
    "                          \"scale\" : np.eye(k),\n",
    "                          \"meanscale\" : 1}, # mvtnormal params\n",
    "}"
   ]
  },
  {
   "cell_type": "code",
   "execution_count": null,
   "metadata": {},
   "outputs": [],
   "source": [
    "iris_tree = bhc.HierarchyTree(X = iris_data_std, allParams = irisPriors)"
   ]
  },
  {
   "cell_type": "code",
   "execution_count": null,
   "metadata": {},
   "outputs": [],
   "source": [
    "iris_tree.grow_tree()"
   ]
  },
  {
   "cell_type": "code",
   "execution_count": null,
   "metadata": {},
   "outputs": [],
   "source": [
    "iris_tree.tree_summary()"
   ]
  },
  {
   "cell_type": "code",
   "execution_count": null,
   "metadata": {},
   "outputs": [],
   "source": [
    "iris_tree.prune_tree()"
   ]
  },
  {
   "cell_type": "code",
   "execution_count": null,
   "metadata": {},
   "outputs": [],
   "source": [
    "iris_tree.tree_summary()"
   ]
  },
  {
   "cell_type": "code",
   "execution_count": null,
   "metadata": {},
   "outputs": [],
   "source": [
    "iris_tree.generate_clust_frame()\n",
    "purity_score(iris.target, iris_tree.clustDF[\"clustnum\"])"
   ]
  },
  {
   "cell_type": "code",
   "execution_count": null,
   "metadata": {},
   "outputs": [],
   "source": [
    "adj_purity_score(iris.target, iris_tree.clustDF[\"clustnum\"], n_dim_iris)"
   ]
  },
  {
   "cell_type": "markdown",
   "metadata": {},
   "source": [
    "### Using sklearn hierarchical clustering"
   ]
  },
  {
   "cell_type": "code",
   "execution_count": null,
   "metadata": {},
   "outputs": [],
   "source": []
  },
  {
   "cell_type": "code",
   "execution_count": null,
   "metadata": {},
   "outputs": [],
   "source": [
    "iris_tree1_cv = []\n",
    "for n_clust in range(1,10):\n",
    "    iris_tree1 = AgglomerativeClustering(n_clusters = n_clust)\n",
    "    iris_tree1.fit(iris_data_std)\n",
    "    iris_tree1_cv.append((n_clust, \n",
    "                       purity_score(iris.target, iris_tree1.labels_),\n",
    "                       adj_purity_score(iris.target, iris_tree1.labels_, n_dim_iris)\n",
    "                      ))"
   ]
  },
  {
   "cell_type": "code",
   "execution_count": null,
   "metadata": {},
   "outputs": [],
   "source": [
    "iris_tree1_cv"
   ]
  },
  {
   "cell_type": "markdown",
   "metadata": {},
   "source": [
    "### Using k-means clustering"
   ]
  },
  {
   "cell_type": "code",
   "execution_count": null,
   "metadata": {},
   "outputs": [],
   "source": [
    "iris_kmeans_cv = []\n",
    "for n_clust in range(1,10):\n",
    "    centr, km_labs, inert = k_means(iris_data_std, n_clusters = n_clust)\n",
    "    iris_kmeans_cv.append((n_clust, \n",
    "                         purity_score(iris.target, km_labs),\n",
    "                         adj_purity_score(iris.target, km_labs, n_dim_iris)\n",
    "                        ))"
   ]
  },
  {
   "cell_type": "code",
   "execution_count": null,
   "metadata": {},
   "outputs": [],
   "source": [
    "iris_kmeans_cv"
   ]
  },
  {
   "cell_type": "markdown",
   "metadata": {},
   "source": [
    "## Wine data"
   ]
  },
  {
   "cell_type": "code",
   "execution_count": null,
   "metadata": {},
   "outputs": [],
   "source": [
    "wine = data.load_wine()"
   ]
  },
  {
   "cell_type": "code",
   "execution_count": null,
   "metadata": {},
   "outputs": [],
   "source": [
    "wine.data.shape"
   ]
  },
  {
   "cell_type": "code",
   "execution_count": null,
   "metadata": {},
   "outputs": [],
   "source": [
    "n_dim_wine = np.unique(wine.target).shape[0]\n",
    "n_dim_wine"
   ]
  },
  {
   "cell_type": "markdown",
   "metadata": {},
   "source": [
    "### Using BHC"
   ]
  },
  {
   "cell_type": "code",
   "execution_count": null,
   "metadata": {},
   "outputs": [],
   "source": [
    "from sklearn.decomposition import PCA\n",
    "from sklearn.model_selection import train_test_split"
   ]
  },
  {
   "cell_type": "code",
   "execution_count": null,
   "metadata": {},
   "outputs": [],
   "source": [
    "# standardize data\n",
    "wine_data_std = (wine.data - wine.data.mean(axis=0))/(wine.data.std(axis=0))"
   ]
  },
  {
   "cell_type": "code",
   "execution_count": null,
   "metadata": {},
   "outputs": [],
   "source": [
    "wine_pca = PCA(n_components = 3)\n",
    "wine_red = wine_pca.fit_transform(wine_data_std, wine.target)"
   ]
  },
  {
   "cell_type": "code",
   "execution_count": null,
   "metadata": {},
   "outputs": [],
   "source": [
    "wine_red.shape"
   ]
  },
  {
   "cell_type": "code",
   "execution_count": null,
   "metadata": {},
   "outputs": [],
   "source": [
    "wine_pca.explained_variance_ratio_"
   ]
  },
  {
   "cell_type": "code",
   "execution_count": null,
   "metadata": {},
   "outputs": [],
   "source": [
    "wine_train, wine_test, target_train, target_test = train_test_split(wine_red, wine.target, test_size= 0.1)"
   ]
  },
  {
   "cell_type": "code",
   "execution_count": null,
   "metadata": {},
   "outputs": [],
   "source": [
    "k = wine_red.shape[1]\n",
    "# priors distribution hyper-parameters\n",
    "winePriors = {\n",
    "    \"clusterConcentrationPrior\" : {\"alpha\" : 0.0001},\n",
    "    \"diffuseInvWishPrior\" : {\"df\" : k, \"scale\" : np.eye(k)}, # inv wishart params\n",
    "    \"diffuseNormPrior\" : {\"loc\" : wine_red.mean(axis = 0),\n",
    "                          \"scale\" : np.eye(k),\n",
    "                          \"meanscale\" : 1}, # mvtnormal params\n",
    "}"
   ]
  },
  {
   "cell_type": "code",
   "execution_count": null,
   "metadata": {},
   "outputs": [],
   "source": [
    "wine_tree = bhc.HierarchyTree(X = wine_train, allParams = winePriors)"
   ]
  },
  {
   "cell_type": "code",
   "execution_count": null,
   "metadata": {},
   "outputs": [],
   "source": [
    "wine_tree.grow_tree()"
   ]
  },
  {
   "cell_type": "code",
   "execution_count": null,
   "metadata": {},
   "outputs": [],
   "source": [
    "wine_tree.tree_summary()"
   ]
  },
  {
   "cell_type": "code",
   "execution_count": null,
   "metadata": {},
   "outputs": [],
   "source": [
    "wine_tree.prune_tree()"
   ]
  },
  {
   "cell_type": "code",
   "execution_count": null,
   "metadata": {},
   "outputs": [],
   "source": [
    "wine_tree.generate_clust_frame()\n",
    "purity_score(target_train, wine_tree.clustDF[\"clustnum\"])"
   ]
  },
  {
   "cell_type": "code",
   "execution_count": null,
   "metadata": {},
   "outputs": [],
   "source": [
    "adj_purity_score(target_train, wine_tree.clustDF[\"clustnum\"], n_dim_wine)"
   ]
  },
  {
   "cell_type": "markdown",
   "metadata": {},
   "source": [
    "### Using sklearn hierarchical clustering"
   ]
  },
  {
   "cell_type": "code",
   "execution_count": null,
   "metadata": {},
   "outputs": [],
   "source": [
    "wine_tree1_cv = []\n",
    "for n_clust in range(1,10):\n",
    "    wine_tree1 = AgglomerativeClustering(n_clusters = n_clust)\n",
    "    wine_tree1.fit(wine_train)\n",
    "    wine_tree1_cv.append((n_clust, \n",
    "                       purity_score(target_train, wine_tree1.labels_),\n",
    "                       adj_purity_score(target_train, wine_tree1.labels_, n_dim_wine)\n",
    "                      ))"
   ]
  },
  {
   "cell_type": "code",
   "execution_count": null,
   "metadata": {},
   "outputs": [],
   "source": [
    "wine_tree1_cv"
   ]
  },
  {
   "cell_type": "markdown",
   "metadata": {},
   "source": [
    "### Using k-means clustering"
   ]
  },
  {
   "cell_type": "code",
   "execution_count": null,
   "metadata": {},
   "outputs": [],
   "source": [
    "wine_kmeans_cv = []\n",
    "for n_clust in range(1,10):\n",
    "    centr, km_labs, inert = k_means(wine_train, n_clusters = n_clust)\n",
    "    wine_kmeans_cv.append((n_clust, \n",
    "                         purity_score(target_train, km_labs),\n",
    "                         adj_purity_score(target_train, km_labs, n_dim_wine)\n",
    "                        ))"
   ]
  },
  {
   "cell_type": "code",
   "execution_count": null,
   "metadata": {},
   "outputs": [],
   "source": [
    "wine_kmeans_cv"
   ]
  },
  {
   "cell_type": "markdown",
   "metadata": {},
   "source": [
    "## Testing binomial"
   ]
  },
  {
   "cell_type": "code",
   "execution_count": null,
   "metadata": {},
   "outputs": [],
   "source": [
    "n_dim = 3 # dimensionality of problem\n",
    "\n",
    "# bernoulii params\n",
    "mu1 = 0\n",
    "mu2 = 0.5\n",
    "mu3 = 1\n",
    "\n",
    "# multinom params\n",
    "p1 = 0.3\n",
    "p2 = 0.4\n",
    "p3 = 1 - p2 - p1\n",
    "\n",
    "# number of total draws\n",
    "draws = 100\n",
    "\n",
    "# random draws\n",
    "rnd.seed(1)\n",
    "\n",
    "knum = rnd.multinomial(draws, (p1, p2, p3))\n",
    "\n",
    "bern1 = rnd.binomial(1, mu1, knum[0])\n",
    "bern2 = rnd.binomial(1, mu2, knum[1])\n",
    "bern3 = rnd.binomial(1, mu2, knum[2])\n",
    "\n",
    "# join columns into dataframe\n",
    "x1 = pd.Series(np.r_[bern1, bern2, bern3])\n",
    "x2 = pd.Series(np.r_[bern1, bern2, bern3])\n",
    "c = pd.Series(np.r_[np.zeros(knum[0]), np.ones(knum[1]), np.ones(knum[2]) * 2])\n",
    "dat = {\"x1\" : x1, \"x2\" : x2, \"c\" : c}\n",
    "bernData = pd.DataFrame(dat)"
   ]
  },
  {
   "cell_type": "code",
   "execution_count": null,
   "metadata": {},
   "outputs": [],
   "source": [
    "# priors distribution hyper-parameters\n",
    "bernPriors = {\n",
    "    \"clusterConcentrationPrior\" : {\"alpha\" : 0.0001},\n",
    "    \"alphaPrior\" : {\"succ\" : 1},\n",
    "    \"betaPrior\" : {\"fail\" : 1}\n",
    "}"
   ]
  },
  {
   "cell_type": "code",
   "execution_count": null,
   "metadata": {},
   "outputs": [],
   "source": [
    "bern_train = bernData.values[:, :2]\n",
    "bern_tree = bhc.HierarchyTree(X = bern_train, allParams = bernPriors, family=\"beta-bern\")"
   ]
  },
  {
   "cell_type": "code",
   "execution_count": null,
   "metadata": {},
   "outputs": [],
   "source": [
    "bern_tree.grow_tree()"
   ]
  },
  {
   "cell_type": "code",
   "execution_count": null,
   "metadata": {},
   "outputs": [],
   "source": [
    "bern_tree.tree_summary()"
   ]
  },
  {
   "cell_type": "code",
   "execution_count": null,
   "metadata": {},
   "outputs": [],
   "source": [
    "bern_tree.prune_tree()"
   ]
  },
  {
   "cell_type": "code",
   "execution_count": null,
   "metadata": {},
   "outputs": [],
   "source": [
    "bern_tree.tree_summary()"
   ]
  },
  {
   "cell_type": "code",
   "execution_count": null,
   "metadata": {},
   "outputs": [],
   "source": [
    "bern_tree.generate_clust_frame()\n",
    "purity_score(bernData[\"c\"], bern_tree.clustDF[\"clustnum\"])"
   ]
  },
  {
   "cell_type": "code",
   "execution_count": null,
   "metadata": {},
   "outputs": [],
   "source": [
    "adj_purity_score(bernData[\"c\"], bern_tree.clustDF[\"clustnum\"],3)"
   ]
  },
  {
   "cell_type": "code",
   "execution_count": null,
   "metadata": {},
   "outputs": [],
   "source": [
    "metrics.cluster.contingency_matrix(bernData[\"c\"], bern_tree.clustDF[\"clustnum\"])"
   ]
  },
  {
   "cell_type": "code",
   "execution_count": null,
   "metadata": {},
   "outputs": [],
   "source": [
    "bern_tree1_cv = []\n",
    "for n_clust in range(1,10):\n",
    "    bern_tree1 = AgglomerativeClustering(n_clusters = n_clust)\n",
    "    bern_tree1.fit(bern_train)\n",
    "    bern_tree1_cv.append((n_clust, \n",
    "                       purity_score(bernData[\"c\"], bern_tree.clustDF[\"clustnum\"]),\n",
    "                       adj_purity_score(bernData[\"c\"], bern_tree.clustDF[\"clustnum\"], 3)\n",
    "                      ))"
   ]
  },
  {
   "cell_type": "code",
   "execution_count": null,
   "metadata": {},
   "outputs": [],
   "source": [
    "bern_tree1_cv"
   ]
  },
  {
   "cell_type": "code",
   "execution_count": null,
   "metadata": {},
   "outputs": [],
   "source": [
    "gc_kmeans_cv = []\n",
    "for n_clust in range(1,10):\n",
    "    centr, km_labs, inert = k_means(gc, n_clusters = n_clust)\n",
    "    gc_kmeans_cv.append((n_clust, \n",
    "                         purity_score(clustData[\"c\"], km_labs),\n",
    "                         adj_purity_score(clustData[\"c\"], km_labs, n_dim)\n",
    "                        ))"
   ]
  },
  {
   "cell_type": "code",
   "execution_count": null,
   "metadata": {},
   "outputs": [],
   "source": []
  }
 ],
 "metadata": {
  "kernelspec": {
   "display_name": "Python 3",
   "language": "python",
   "name": "python3"
  },
  "language_info": {
   "codemirror_mode": {
    "name": "ipython",
    "version": 3
   },
   "file_extension": ".py",
   "mimetype": "text/x-python",
   "name": "python",
   "nbconvert_exporter": "python",
   "pygments_lexer": "ipython3",
   "version": "3.7.0"
  }
 },
 "nbformat": 4,
 "nbformat_minor": 2
}
