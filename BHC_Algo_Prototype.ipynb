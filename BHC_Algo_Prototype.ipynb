{
 "cells": [
  {
   "cell_type": "markdown",
   "metadata": {},
   "source": [
    "# Bayesian Hierarchical Clustering\n",
    "## Prototype Build"
   ]
  },
  {
   "cell_type": "markdown",
   "metadata": {},
   "source": [
    "The intent of this notebook is to implement a preliminary version of the *Bayesian Hierarchical Clustering* (BHC) algorithm."
   ]
  },
  {
   "cell_type": "code",
   "execution_count": 3,
   "metadata": {},
   "outputs": [],
   "source": [
    "import numpy as np\n",
    "import scipy as sc\n",
    "import pandas as pd\n",
    "from scipy import random as rnd\n",
    "import matplotlib.pyplot as plt"
   ]
  },
  {
   "cell_type": "markdown",
   "metadata": {},
   "source": [
    "#### Generate Example Data\n",
    "\n",
    "Example data will consist of a mixture of three gaussian distributions with varying parameters. It will be clustered via random draws of a multinomial distribution."
   ]
  },
  {
   "cell_type": "code",
   "execution_count": 48,
   "metadata": {},
   "outputs": [],
   "source": [
    "# bivariate gaussian params\n",
    "mu1 = np.zeros(2)\n",
    "cov1 = np.eye(2)\n",
    "\n",
    "mu2 = np.array([5, 3])\n",
    "cov2 = np.eye(2) * 2\n",
    "\n",
    "mu3 = np.array([8, 12])\n",
    "cov3 = np.array([3.4, 0, 0, 5.1]).reshape(2, 2)\n",
    "\n",
    "# multinom params\n",
    "p1 = 0.6\n",
    "p2 = 0.3\n",
    "p3 = 1 - p2 - p1\n",
    "\n",
    "# number of total draws\n",
    "draws = 200"
   ]
  },
  {
   "cell_type": "code",
   "execution_count": 49,
   "metadata": {},
   "outputs": [],
   "source": [
    "# random draws\n",
    "rnd.seed(1)\n",
    "\n",
    "knum = rnd.multinomial(draws, (p1, p2, p3))\n",
    "\n",
    "gaus1 = rnd.multivariate_normal(mu1, cov1, knum[0])\n",
    "gaus2 = rnd.multivariate_normal(mu2, cov2, knum[0])\n",
    "gaus3 = rnd.multivariate_normal(mu3, cov3, knum[0])"
   ]
  },
  {
   "cell_type": "code",
   "execution_count": 50,
   "metadata": {},
   "outputs": [
    {
     "data": {
      "image/png": "[encoded data removed]",
      "text/plain": [
       "<Figure size 432x288 with 1 Axes>"
      ]
     },
     "metadata": {
      "needs_background": "light"
     },
     "output_type": "display_data"
    }
   ],
   "source": [
    "plt.scatter(gaus1[:, 0], gaus1[:, 1])\n",
    "plt.scatter(gaus2[:, 0], gaus2[:, 1], c = \"green\")\n",
    "plt.scatter(gaus3[:, 0], gaus3[:, 1], c = \"red\")\n",
    "plt.show()"
   ]
  },
  {
   "cell_type": "code",
   "execution_count": null,
   "metadata": {},
   "outputs": [],
   "source": []
  }
 ],
 "metadata": {
  "kernelspec": {
   "display_name": "Python 3",
   "language": "python",
   "name": "python3"
  },
  "language_info": {
   "codemirror_mode": {
    "name": "ipython",
    "version": 3
   },
   "file_extension": ".py",
   "mimetype": "text/x-python",
   "name": "python",
   "nbconvert_exporter": "python",
   "pygments_lexer": "ipython3",
   "version": "3.6.8"
  }
 },
 "nbformat": 4,
 "nbformat_minor": 2
}
