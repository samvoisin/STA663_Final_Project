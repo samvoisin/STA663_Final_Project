{
 "cells": [
  {
   "cell_type": "markdown",
   "metadata": {},
   "source": [
    "# Bayesian Hierarchical Clustering\n",
    "## Prototype Build"
   ]
  },
  {
   "cell_type": "markdown",
   "metadata": {},
   "source": [
    "The intent of this notebook is to implement a preliminary version of the *Bayesian Hierarchical Clustering* (BHC) algorithm.\n",
    "\n",
    "*Sources:*\n",
    "\n",
    "- https://cs.fit.edu/~dmitra/ArtInt/Spring2017/Projects/DM-on_ReportBayesian_Clustering_Project_Report_nlowing_rbomalaski.pdf"
   ]
  },
  {
   "cell_type": "code",
   "execution_count": 1,
   "metadata": {},
   "outputs": [],
   "source": [
    "import numpy as np\n",
    "import scipy as sc\n",
    "import pandas as pd\n",
    "import seaborn as sns\n",
    "import itertools as it\n",
    "from scipy import stats\n",
    "from scipy import linalg as la\n",
    "from scipy import random as rnd\n",
    "import matplotlib.pyplot as plt"
   ]
  },
  {
   "cell_type": "markdown",
   "metadata": {},
   "source": [
    "### Generate Example Data\n",
    "\n",
    "Example data will consist of a mixture of three gaussian distributions with varying parameters. It will be clustered via random draws of a multinomial distribution."
   ]
  },
  {
   "cell_type": "code",
   "execution_count": 2,
   "metadata": {},
   "outputs": [],
   "source": [
    "# bivariate gaussian params\n",
    "mu1 = np.zeros(2)\n",
    "cov1 = np.eye(2)\n",
    "\n",
    "mu2 = np.array([5, 3])\n",
    "cov2 = np.eye(2) * 2\n",
    "\n",
    "mu3 = np.array([8, 12])\n",
    "cov3 = np.array([3.4, 0, 0, 5.1]).reshape(2, 2)\n",
    "\n",
    "# multinom params\n",
    "p1 = 0.2\n",
    "p2 = 0\n",
    "p3 = 1 - p2 - p1\n",
    "\n",
    "# number of total draws\n",
    "draws = 60"
   ]
  },
  {
   "cell_type": "code",
   "execution_count": 3,
   "metadata": {},
   "outputs": [],
   "source": [
    "# random draws\n",
    "rnd.seed(1)\n",
    "\n",
    "knum = rnd.multinomial(draws, (p1, p2, p3))\n",
    "\n",
    "gaus1 = rnd.multivariate_normal(mu1, cov1, knum[0])\n",
    "gaus2 = rnd.multivariate_normal(mu2, cov2, knum[1])\n",
    "gaus3 = rnd.multivariate_normal(mu3, cov3, knum[2])"
   ]
  },
  {
   "cell_type": "code",
   "execution_count": 4,
   "metadata": {},
   "outputs": [],
   "source": [
    "# join columns into dataframe\n",
    "x1 = pd.Series(np.r_[gaus1[:, 0], gaus2[:, 0], gaus3[:, 0]])\n",
    "x2 = pd.Series(np.r_[gaus1[:, 1], gaus2[:, 1], gaus3[:, 1]])\n",
    "c = pd.Series(np.r_[np.zeros(knum[0]), np.ones(knum[1]), np.ones(knum[2]) * 2])\n",
    "dat = {\"x1\" : x1, \"x2\" : x2, \"c\" : c}\n",
    "clustData = pd.DataFrame(dat)"
   ]
  },
  {
   "cell_type": "code",
   "execution_count": 5,
   "metadata": {},
   "outputs": [
    {
     "data": {
      "image/png": "[encoded data removed]",
      "text/plain": [
       "<Figure size 432x288 with 1 Axes>"
      ]
     },
     "metadata": {
      "needs_background": "light"
     },
     "output_type": "display_data"
    }
   ],
   "source": [
    "plt.scatter(clustData[\"x1\"], clustData[\"x2\"], c = clustData[\"c\"])\n",
    "plt.show()"
   ]
  },
  {
   "cell_type": "markdown",
   "metadata": {},
   "source": [
    "### Preliminary Algorithm\n",
    "\n",
    "***BHC Steps:***\n",
    "\n",
    "\n",
    "1. Input\n",
    "    - Data: $D = \\{\\vec{x_1}, ..., \\vec{x_n}\\}$ \n",
    "    - Select generative model: $p(\\vec{x} | \\theta)$\n",
    "    - Select appropriate prior: $p(\\theta | \\theta_0)$\n",
    "\n",
    "2. Initialize Stage\n",
    "    - Number of initial clusters: `c = len(D)`\n",
    "    - $D_i = {\\vec{x_i}}$ for $i = 1, ..., n$\n",
    "\n",
    "3. Iterate Stage\n",
    "    `while c > 1:`\n",
    "    \n",
    "    - find data pair $D_i$, $D_j$ w/ highest posterior probability for merge hypothesis: $r_k = p(H^1_k | D_k) = \\frac{p(D_k | H^1_k)\\pi_k}{p(D_k | T_k)}$\n",
    "    - merge clusters $D_k = D_i \\cup D_j$\n",
    "    - delete old clusters $D_i$ and $D_j$\n",
    "    - interate number of clusters `c -= 1`\n",
    "    \n",
    "   `end loop`"
   ]
  },
  {
   "cell_type": "markdown",
   "metadata": {},
   "source": [
    "***Output:***\n",
    "\n",
    "Bayesian mixture model where each tree node is a mixture component. Tree can be cut at points where $r_k < 0.5$."
   ]
  },
  {
   "cell_type": "markdown",
   "metadata": {},
   "source": [
    "# Building Algorithm Components"
   ]
  },
  {
   "cell_type": "markdown",
   "metadata": {},
   "source": [
    "### Defining the `Split` and `Leaf` Classes\n",
    "\n",
    "The `Split` class will store all the information about a given split including the vectors that belong to that tree and subtrees.\n",
    "\n",
    "The `Leaf` class stores fundamental information at the bottom tier."
   ]
  },
  {
   "cell_type": "code",
   "execution_count": 6,
   "metadata": {},
   "outputs": [],
   "source": [
    "class Leaf:\n",
    "    \"\"\"Leaf class contains information for each data point at tier 1 level\"\"\"\n",
    "    \n",
    "    def __init__(self, pt, alpha):\n",
    "        \"\"\"initialize Leaf object\n",
    "        pt is an individual data point stored as a len 1 np array\n",
    "        alpha is prior parameter for number of clusters\"\"\"\n",
    "        self.tier = 1 # leaves start at tier 1\n",
    "        self.alpha = alpha # prior on number of clusters\n",
    "        self.tree = np.array([pt]) # leaves are single point trees (structured)\n",
    "        self.clust = np.array([pt]) # leaves are single point clusters (unstructured group)\n",
    "        self.clustsize = 1 # leaves have cluster size 1\n",
    "        self.d = alpha # initial d_i\n",
    "        self.pi = 1 # initial "
   ]
  },
  {
   "cell_type": "code",
   "execution_count": 7,
   "metadata": {},
   "outputs": [],
   "source": [
    "class Split:\n",
    "    \"\"\"Split class stores all information about a given split\"\"\"\n",
    "    \n",
    "    def __init__(self, clusti, clustj):\n",
    "        \"\"\"initialize Split object\n",
    "        objDiTi - is a Split or Leaf object from cluster i (left split)\n",
    "        objDjTj - is a Split or Leaf object from cluster j (right split)\n",
    "        alpha is prior parameter for number of clusters\"\"\"\n",
    "        self.left = clusti\n",
    "        self.right = clustj\n",
    "        self.alpha = clusti.alpha # alpha parameter will remain unchanged for tree (prior)\n",
    "        self.tier = clusti.tier + clustj.tier\n",
    "        self.clustsize = clusti.clustsize + clustj.clustsize\n",
    "        self.tree = np.array([clusti.tree, clustj.tree])\n",
    "        self.clust = np.hstack([clusti.clust, clustj.clust])\n",
    "        \n",
    "        # calculate new small d_k\n",
    "        self.d = self.alpha * sc.special.gamma(self.clustsize) + clusti.d * clustj.d\n",
    "        \n",
    "        # calculate new pi_k\n",
    "        self.pi = self.alpha * sc.special.gamma(self.clustsize) / self.d"
   ]
  },
  {
   "cell_type": "markdown",
   "metadata": {},
   "source": [
    "#### Example Use of `Leaf ` and `Split`:"
   ]
  },
  {
   "cell_type": "code",
   "execution_count": 8,
   "metadata": {},
   "outputs": [],
   "source": [
    "x = x1.values[0]\n",
    "y = x2.values[0]\n",
    "z = x2.values[1]"
   ]
  },
  {
   "cell_type": "code",
   "execution_count": 9,
   "metadata": {},
   "outputs": [],
   "source": [
    "lx = Leaf(x, 2)\n",
    "ly = Leaf(y, 2)\n",
    "lz = Leaf(z, 2)"
   ]
  },
  {
   "cell_type": "code",
   "execution_count": 11,
   "metadata": {},
   "outputs": [],
   "source": [
    "syx = Split(lx, ly)\n",
    "syxz = Split(syx, lz)"
   ]
  },
  {
   "cell_type": "code",
   "execution_count": 20,
   "metadata": {},
   "outputs": [],
   "source": [
    "### Hyper-Parameter Helper Functions ###\n",
    "\n",
    "def wishart_hyperparams(dvec, **priorhps):\n",
    "    \"\"\"calculate posterior hyper-parameters for wishart distribution\n",
    "    dvec - vector of observed data for likelihood distribution as np array\n",
    "    **priorhps - kwargs as dictionary of prior hyperparameters\n",
    "    hyperparameters must be k0 (1 x 1) and \n",
    "    precisionMatrix (n x n) where n is dvec.size\"\"\"\n",
    "    n = dvec.size\n",
    "    xbar = dvec.mean()\n",
    "    \n",
    "    kn = priorhps[\"k0\"] + n # posterior degrees of freedom\n",
    "    \n",
    "    #C = \n",
    "    \n",
    "    pass\n",
    "    \n",
    "    "
   ]
  },
  {
   "cell_type": "code",
   "execution_count": 12,
   "metadata": {},
   "outputs": [],
   "source": [
    "# model parameters\n",
    "\n",
    "### parameter notes ###\n",
    "# Gaussian Distribution - loc is mean; scale is sd\n",
    "# Gamma Distribution - a is shape; scale is rate; leave loc at 0\n",
    "\n",
    "allParams = {\n",
    "    \"clusterConcentrationParam\" : {\"alpha\" : 10},\n",
    "    \"diffusePriorGamma\" : {\"a\" : 1/2, \"loc\" : 0, \"scale\" : 1/2}, # param / 2 for conj\n",
    "    \"diffusePriorNorm\" : {\"loc\" : 0, \"scale\" : 1}, # normal params\n",
    "}"
   ]
  },
  {
   "cell_type": "code",
   "execution_count": 22,
   "metadata": {},
   "outputs": [
    {
     "data": {
      "text/plain": [
       "(4, 29)"
      ]
     },
     "execution_count": 22,
     "metadata": {},
     "output_type": "execute_result"
    }
   ],
   "source": [
    "gamma_normal_posterior_hps(np.array([1, 2, 3]), 5, **allParams[\"diffusePriorGamma\"])"
   ]
  },
  {
   "cell_type": "markdown",
   "metadata": {},
   "source": [
    "### Evaluating Marginal Likelihood\n",
    "\n",
    "In order to evaluate the marginal likelihood, we need to evaluate the below integral:\n",
    "\n",
    "\\begin{align}\n",
    "p(D_k|H_k) &= \\int_\\theta p(D_k | \\theta) p(\\theta | \\theta_0) d\\theta \\\\\n",
    "&= \\int_\\mu \\int_\\phi \\prod_{i = 1}^n \\mathcal{N}(x_i | \\mu, \\phi) \\mathcal{G}(\\phi | \\alpha, \\beta) \\mathcal{N}(\\mu | \\mu_0, \\tau^2) \\thinspace d\\phi \\thinspace d\\mu \\\\\n",
    "&= \\int_\\mu \\int_\\phi \\prod_{i = 1}^n \\frac{\\phi^{\\frac{1}{2}}}{ \\sqrt{2 \\pi} } \\exp \\left({\\frac{\\phi(x_i - \\mu)^2}{-2}} \\right)\n",
    "\\frac{\\beta^\\alpha}{\\Gamma(\\alpha)}{\\phi^{\\alpha - 1} } e^{ - \\beta \\phi}\n",
    "\\frac{\\tau^{\\frac{1}{2}}}{ \\sqrt{2 \\pi} } \\exp \\left({\\frac{\\tau(\\mu - \\mu_0)^2}{-2}} \\right)\n",
    "\\thinspace d\\phi \\thinspace d\\mu \\\\\n",
    "&= \\int_\\mu \\left[ \\int_\\phi \\prod_{i = 1}^n \\frac{\\phi^{\\frac{1}{2}}}{ \\sqrt{2 \\pi} } \\exp \\left({\\frac{\\phi(x_i - \\mu)^2}{-2}} \\right)\n",
    "\\frac{\\beta^\\alpha}{\\Gamma(\\alpha)}{\\phi^{\\alpha - 1} } e^{ - \\beta \\phi} \\thinspace d\\phi \\thinspace \\right]\n",
    "\\frac{\\tau^{\\frac{1}{2}}}{ \\sqrt{2 \\pi} } \\exp \\left({\\frac{\\tau(\\mu - \\mu_0)^2}{-2}} \\right)\n",
    "\\thinspace \\thinspace d\\mu \\\\\n",
    "\\end{align}\n"
   ]
  },
  {
   "cell_type": "markdown",
   "metadata": {},
   "source": [
    "### Importance Sampler\n",
    "\n",
    "$$\n",
    "I = \\int{h(x)\\,p(x) \\, dx}\n",
    "$$\n",
    "\n",
    "where $h(x)$ is some function and $p(x)$ is the PDF of $y$. If it is hard to sample directly from $p$, we can introduce a new density function $q(x)$ that is easy to sample from, and write\n",
    "\n",
    "$$\n",
    "I = \\int{h(x)\\, p(x)\\, dx} = \\int{h(x)\\, \\frac{p(x)}{q(x)} \\, q(x) \\, dx}\n",
    "$$\n",
    "\n",
    "In other words, we sample from $h(y)$ where $y \\sim q$ and weight it by the likelihood ratio $\\frac{p(y)}{q(y)}$, estimating the integral as\n",
    "\n",
    "$$\n",
    "\\frac{1}{n}\\sum_{i=1}^n \\frac{p(y_i)}{q(y_i)} h(y_i)\n",
    "$$\n",
    "\n"
   ]
  },
  {
   "cell_type": "code",
   "execution_count": 1,
   "metadata": {},
   "outputs": [
    {
     "ename": "SyntaxError",
     "evalue": "invalid syntax (<ipython-input-1-fb05c2633ec7>, line 29)",
     "output_type": "error",
     "traceback": [
      "\u001b[0;36m  File \u001b[0;32m\"<ipython-input-1-fb05c2633ec7>\"\u001b[0;36m, line \u001b[0;32m29\u001b[0m\n\u001b[0;31m    def post_gamma_norm_density()\u001b[0m\n\u001b[0m                                 ^\u001b[0m\n\u001b[0;31mSyntaxError\u001b[0m\u001b[0;31m:\u001b[0m invalid syntax\n"
     ]
    }
   ],
   "source": [
    "### helper functions for normal-gamma importance sampler ###\n",
    "\n",
    "def gamma_normal_posterior_hps(dvec, muuk, **priorhps):\n",
    "    \"\"\"calculate posterior hyper-parameters for gamma distribution\n",
    "    This is gamma-normal conjugate posterior w/ precision parameterization\n",
    "    dvec - vector of observed data for likelihood distribution as np array\n",
    "    muuk - unknown value for generative distribution mean (H1)\n",
    "    **priorhps - kwargs as dictionary of prior hyperparameters\n",
    "    hyperparameters must be:\n",
    "    Normal (\"priorMeanParams\"):\n",
    "    loc - mean\n",
    "    scale - standard deviation\n",
    "    Gamma (\"priorPrecisParams\"):\n",
    "    a - shape\n",
    "    loc - location (for most purpose this remain as 0)\n",
    "    scale - rate\"\"\"\n",
    "    n = dvec.size # sample size\n",
    "    \n",
    "    ### gamma params ###\n",
    "    # posterior shape parameter\n",
    "    postShape = priorhps[\"a\"] + n\n",
    "    \n",
    "    # posterior rate parameter\n",
    "    sse = (dvec - muuk).T @ (dvec - muuk)\n",
    "    postScale = priorhps[\"scale\"] * sse\n",
    "        \n",
    "    return postShape, postScale\n",
    "\n",
    "def post_gamma_norm_MVTdensity(**paramDict):\n",
    "    \"\"\"calculate density for a combined gamma-normal density distribution\"\"\"\n",
    "    normComponent = stats.norm(**paramDict[\"diffusePriorNorm\"])\n",
    "    gammaComponent = stats.gamma(**paramDict)"
   ]
  },
  {
   "cell_type": "code",
   "execution_count": 33,
   "metadata": {},
   "outputs": [],
   "source": [
    "# importance sampler helper functions\n",
    "# first use case is Normal-Gamma example above\n",
    "\n",
    "def norm_gamma_import_sampler(dvec, *distrs, sampsize = 100):\n",
    "    \"\"\"importance sampler function for H1 of BHC algorithm\n",
    "    this importance sampler is for the univariate normal-gamma case\n",
    "    dvec is the vector of datapoints suggested for cluster k\n",
    "    *distr is *args for distributions to be included in integration\n",
    "    distr[0] should be likelihood distribution\n",
    "    distr[1:] should be priors on likelihood parameters\n",
    "    sampsize is number of samples in importance sampler\"\"\"\n",
    "    # distribution for IS denominator values\n",
    "    weight_distr = stats.multivariate_normal(\n",
    "        mean = np.zeros(2),\n",
    "        cov = np.eye(2))\n",
    "    # random values array\n",
    "    warray = weight_distr.rvs(size = sampsize)\n",
    "    \n",
    "    return w"
   ]
  },
  {
   "cell_type": "code",
   "execution_count": 36,
   "metadata": {},
   "outputs": [
    {
     "data": {
      "text/plain": [
       "array([-0.72765723, -1.95964257])"
      ]
     },
     "execution_count": 36,
     "metadata": {},
     "output_type": "execute_result"
    }
   ],
   "source": [
    "# test bhc_importance_sampler\n",
    "tst1 = stats.norm()\n",
    "tst2 = stats.expon(loc = 5)\n",
    "tst3 = stats.gamma(1, 0, 1)\n",
    "norm_gamma_import_sampler(np.array([1,2,3]), tst1, tst2, sampsize = 1)"
   ]
  },
  {
   "cell_type": "code",
   "execution_count": 11,
   "metadata": {},
   "outputs": [],
   "source": [
    "# helper functions\n",
    "\n",
    "def eval_H1(ci, cj, ss = 100 **hkparams):\n",
    "    \"\"\"probability of hypothes 1: data comes from same distribution\n",
    "    ci and cj are clusters we are checking to merge into cluster k\n",
    "    ss is the sample size for rejection sampler\n",
    "    **hkparams kwargs is prior parameters for cluster\"\"\"\n",
    "    \n",
    "    # prior distributions\n",
    "    meanPriors = stats.norm.rvs(**hkparams[\"diffusePriorNorm\"], size = 100)\n",
    "    precisPriors = stats.gamma.rvs(**hkparams[\"diffusePriorGamma\"], size = 100)\n",
    "    \n",
    "    # evaluate joint prob of data in clust k given priors\n",
    "    H1_pdf = stats.norm() \n",
    "    probsk = H1_pdf.cdf(np.array([ci.clust, cj.clust]))\n",
    "    return probsk.prod()\n",
    "\n",
    "def eval_H2(ci, cj):\n",
    "    \"\"\"probability of hypothes 2: data comes from diff distr\n",
    "    ci and cj are clusters we are checking to merge\"\"\"\n",
    "    \n",
    "    \n",
    "def probClustK(ci, cj, N, hkparams):\n",
    "    \"\"\"calculate the marginal probability of cluster k existing\n",
    "    This is the 'evidence' in Bayes Rule; called P(D_k | T_k) in paper\n",
    "    ci and cj are clusters we are checking to merge\n",
    "    N is total number of data points among all clusters\n",
    "    hkparams is a dictionary of relevant distribution parameters\"\"\"\n",
    "    pik = (ci.clustsize + cj.clustsize) / N # will have to put prior on this later\n",
    "    pik * eval_H1(ci, cj, **hkparams) + (1 - pik) * eval_H2(ci, cj)"
   ]
  },
  {
   "cell_type": "code",
   "execution_count": null,
   "metadata": {},
   "outputs": [],
   "source": [
    "## version of eval_H1 from Heller appendix\n",
    "N = X.shape[0] # need to change this according to Sam's code\n",
    "k = X.shape[1]\n",
    "\n",
    "# normal prior hyperparams\n",
    "m = # prior mean\n",
    "S = # prior covariance\n",
    "\n",
    "# inv Wish prior hyperparams\n",
    "r = # scaling factor\n",
    "v = # df\n",
    "\n",
    "S_prime = S + np.dot(X, X.T) + (r*n*np.dot(m,m.T))/(N+r) + 1/(N+r)*np.sum()\n",
    "pr_H1 = (2*np.pi)**(N*k/2)*\n"
   ]
  },
  {
   "cell_type": "code",
   "execution_count": null,
   "metadata": {},
   "outputs": [],
   "source": []
  },
  {
   "cell_type": "code",
   "execution_count": null,
   "metadata": {},
   "outputs": [],
   "source": []
  },
  {
   "cell_type": "code",
   "execution_count": null,
   "metadata": {},
   "outputs": [],
   "source": []
  },
  {
   "cell_type": "code",
   "execution_count": null,
   "metadata": {},
   "outputs": [],
   "source": []
  },
  {
   "cell_type": "code",
   "execution_count": null,
   "metadata": {},
   "outputs": [],
   "source": []
  },
  {
   "cell_type": "code",
   "execution_count": null,
   "metadata": {},
   "outputs": [],
   "source": []
  },
  {
   "cell_type": "code",
   "execution_count": null,
   "metadata": {},
   "outputs": [],
   "source": []
  },
  {
   "cell_type": "code",
   "execution_count": null,
   "metadata": {},
   "outputs": [],
   "source": []
  },
  {
   "cell_type": "code",
   "execution_count": null,
   "metadata": {},
   "outputs": [],
   "source": []
  },
  {
   "cell_type": "markdown",
   "metadata": {},
   "source": [
    "### Using Itertools for Combinations\n",
    "\n",
    "`itertools.combinations(data, # in combo)` creates all possible combinations with no repetition"
   ]
  },
  {
   "cell_type": "code",
   "execution_count": null,
   "metadata": {},
   "outputs": [],
   "source": [
    "for dk in it.combinations(clustData.values[:, :2], 2):\n",
    "    print(np.c_[dk[0], dk[1]])"
   ]
  },
  {
   "cell_type": "code",
   "execution_count": null,
   "metadata": {},
   "outputs": [],
   "source": [
    "# dictionary for tracking clusters. This is what initialization could look like\n",
    "# each key : value pair in this dict is one \"leaf\" in the tree\n",
    "# leaves represent an individual vector at first\n",
    "# as algo progresses they will represent matrices of vectors in a given cluster\n",
    "trees = {n : d for n, d in enumerate(clustData.values[:, :2])}"
   ]
  },
  {
   "cell_type": "code",
   "execution_count": null,
   "metadata": {},
   "outputs": [],
   "source": [
    "trees"
   ]
  },
  {
   "cell_type": "code",
   "execution_count": null,
   "metadata": {},
   "outputs": [],
   "source": []
  },
  {
   "cell_type": "code",
   "execution_count": null,
   "metadata": {},
   "outputs": [],
   "source": []
  },
  {
   "cell_type": "code",
   "execution_count": null,
   "metadata": {},
   "outputs": [],
   "source": []
  },
  {
   "cell_type": "code",
   "execution_count": null,
   "metadata": {},
   "outputs": [],
   "source": []
  },
  {
   "cell_type": "code",
   "execution_count": null,
   "metadata": {},
   "outputs": [],
   "source": []
  }
 ],
 "metadata": {
  "kernelspec": {
   "display_name": "Python 3",
   "language": "python",
   "name": "python3"
  },
  "language_info": {
   "codemirror_mode": {
    "name": "ipython",
    "version": 3
   },
   "file_extension": ".py",
   "mimetype": "text/x-python",
   "name": "python",
   "nbconvert_exporter": "python",
   "pygments_lexer": "ipython3",
   "version": "3.7.2"
  }
 },
 "nbformat": 4,
 "nbformat_minor": 2
}
