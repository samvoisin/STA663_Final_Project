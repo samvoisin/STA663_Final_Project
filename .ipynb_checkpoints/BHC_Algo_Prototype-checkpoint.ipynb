{
 "cells": [
  {
   "cell_type": "markdown",
   "metadata": {},
   "source": [
    "# Bayesian Hierarchical Clustering\n",
    "## Prototype Build"
   ]
  },
  {
   "cell_type": "markdown",
   "metadata": {},
   "source": [
    "The intent of this notebook is to implement a preliminary version of the *Bayesian Hierarchical Clustering* (BHC) algorithm."
   ]
  },
  {
   "cell_type": "code",
   "execution_count": 1,
   "metadata": {},
   "outputs": [],
   "source": [
    "import numpy as np\n",
    "import scipy as sc\n",
    "import pandas as pd\n",
    "import seaborn as sns\n",
    "from scipy import stats\n",
    "from scipy import linalg as la\n",
    "from scipy import random as rnd\n",
    "import matplotlib.pyplot as plt"
   ]
  },
  {
   "cell_type": "markdown",
   "metadata": {},
   "source": [
    "### Generate Example Data\n",
    "\n",
    "Example data will consist of a mixture of three gaussian distributions with varying parameters. It will be clustered via random draws of a multinomial distribution."
   ]
  },
  {
   "cell_type": "code",
   "execution_count": 2,
   "metadata": {},
   "outputs": [],
   "source": [
    "# bivariate gaussian params\n",
    "mu1 = np.zeros(2)\n",
    "cov1 = np.eye(2)\n",
    "\n",
    "mu2 = np.array([5, 3])\n",
    "cov2 = np.eye(2) * 2\n",
    "\n",
    "mu3 = np.array([8, 12])\n",
    "cov3 = np.array([3.4, 0, 0, 5.1]).reshape(2, 2)\n",
    "\n",
    "# multinom params\n",
    "p1 = 0.4\n",
    "p2 = 0.3\n",
    "p3 = 1 - p2 - p1\n",
    "\n",
    "# number of total draws\n",
    "draws = 200"
   ]
  },
  {
   "cell_type": "code",
   "execution_count": 3,
   "metadata": {},
   "outputs": [],
   "source": [
    "# random draws\n",
    "rnd.seed(1)\n",
    "\n",
    "knum = rnd.multinomial(draws, (p1, p2, p3))\n",
    "\n",
    "gaus1 = rnd.multivariate_normal(mu1, cov1, knum[0])\n",
    "gaus2 = rnd.multivariate_normal(mu2, cov2, knum[1])\n",
    "gaus3 = rnd.multivariate_normal(mu3, cov3, knum[2])"
   ]
  },
  {
   "cell_type": "code",
   "execution_count": 4,
   "metadata": {},
   "outputs": [],
   "source": [
    "# join columns into dataframe\n",
    "x1 = pd.Series(np.r_[gaus1[:, 0], gaus2[:, 0], gaus3[:, 0]])\n",
    "x2 = pd.Series(np.r_[gaus1[:, 1], gaus2[:, 1], gaus3[:, 1]])\n",
    "c = pd.Series(np.r_[np.zeros(knum[0]), np.ones(knum[1]), np.ones(knum[2]) * 2])\n",
    "dat = {\"x1\" : x1, \"x2\" : x2, \"c\" : c}\n",
    "clustData = pd.DataFrame(dat)"
   ]
  },
  {
   "cell_type": "code",
   "execution_count": 5,
   "metadata": {},
   "outputs": [
    {
     "data": {
      "image/png": "[encoded data removed]",
      "text/plain": [
       "<Figure size 432x288 with 1 Axes>"
      ]
     },
     "metadata": {
      "needs_background": "light"
     },
     "output_type": "display_data"
    }
   ],
   "source": [
    "plt.scatter(clustData[\"x1\"], clustData[\"x2\"], c = clustData[\"c\"])\n",
    "plt.show()"
   ]
  },
  {
   "cell_type": "markdown",
   "metadata": {},
   "source": [
    "### Preliminary Algorithm\n",
    "\n",
    "***BHC Steps:***\n",
    "\n",
    "\n",
    "1. Input\n",
    "    - Data: $D = \\{\\vec{x_1}, ..., \\vec{x_n}\\}$ \n",
    "    - Select generative model: $p(\\vec{x} | \\theta)$\n",
    "    - Select appropriate prior: $p(\\theta | \\theta_0)$\n",
    "\n",
    "2. Initialize Stage\n",
    "    - Number of initial clusters: `c = len(D)`\n",
    "    - $D_i = {\\vec{x_i}}$ for $i = 1, ..., n$\n",
    "\n",
    "3. Iterate Stage\n",
    "    `while c > 1:`\n",
    "    \n",
    "    - find data pair $D_i$, $D_j$ w/ highest posterior probability for merge hypothesis: $r_k = p(H^1_k | D_k) = \\frac{p(D_k | H^1_k)\\pi_k}{p(D_k | T_k)}$\n",
    "    - merge clusters $D_k = D_i \\cup D_j$\n",
    "    - delete old clusters $D_i$ and $D_j$\n",
    "    - interate number of clusters `c -= 1`\n",
    "    \n",
    "   `end loop`"
   ]
  },
  {
   "cell_type": "markdown",
   "metadata": {},
   "source": [
    "***Output:***\n",
    "\n",
    "Bayesian mixture model where each tree node is a mixture component. Tree can be cut at points where $r_k < 0.5$."
   ]
  },
  {
   "cell_type": "markdown",
   "metadata": {},
   "source": [
    "### Building Algorithm Components"
   ]
  },
  {
   "cell_type": "code",
   "execution_count": null,
   "metadata": {},
   "outputs": [],
   "source": [
    "# define prior probability for hypothesis 1\n",
    "\n",
    "def prior_scale(alpha, nk, dleft, dright):\n",
    "    \"\"\"calculate scale parameter for merge cluster prior\n",
    "    alpha - a cluster concentration parameter\n",
    "    nk - the number of points in new cluster Dk\n",
    "    dleft - prior scale for left subtree\n",
    "    dright - prior scale for right subtree\"\"\"\n",
    "    pass\n",
    "\n",
    "def clust_k_prior(alpha, nk, dk):\n",
    "    \"\"\"Prior probability for merging clusters i, j into a single cluster k\n",
    "    alpha - a cluster concentration parameter\n",
    "    nk - the number of points in new cluster Dk\n",
    "    dk - is a scale parameter\"\"\"\n",
    "    pass\n",
    "    \n",
    "    "
   ]
  },
  {
   "cell_type": "code",
   "execution_count": 6,
   "metadata": {},
   "outputs": [],
   "source": [
    "# hyper params\n",
    "\n",
    "def mvtnorm_post_mean(mu0, ybar, sig0, cov, n):\n",
    "    \"\"\"mutlivariate normal posterior mean\"\"\"\n",
    "    mu0 = mu0.reshape(-1, 1)\n",
    "    ybar = ybar.reshape(-1, 1)\n",
    "    s = cov.shape[0] # size of covariance matrix\n",
    "    idty = np.eye(s) # identity for inverting with la.solve\n",
    "    \n",
    "    num = la.solve(sig0, idty) @ mu0 + n * la.solve(cov, idty) @ ybar\n",
    "    denom = la.solve(la.solve(sig0, idty) + n * la.solve(cov, idty), idty)\n",
    "    \n",
    "    return denom @ num\n",
    "\n",
    "def mvtnorm_post_cov(sig0, cov, n):\n",
    "    \"\"\"mutlivariate normal posterior covariance\"\"\"\n",
    "    s = cov.shape[0] # size of covariance matrix\n",
    "    idty = np.eye(s) # identity for inverting with la.solve\n",
    "    \n",
    "    res = la.solve(la.solve(sig0, idty) + n * la.solve(cov, idty), idty)\n",
    "    return res\n",
    "\n",
    "def generative_likelihood(mu, cov, *xs):\n",
    "    \"\"\"likelihood of data under mu and cov (mvtnorm)\n",
    "    mu - mean vector of distribution\n",
    "    cov - covariance matrix\n",
    "    *xs - *args list of vectors in set (cluster)\"\"\"\n",
    "    lik = 1\n",
    "    # iterative product of likelihoods\n",
    "    for x in xs:\n",
    "        lik *= stats.multivariate_normal.pdf(x, mu, cov)\n",
    "    return lik"
   ]
  },
  {
   "cell_type": "code",
   "execution_count": 9,
   "metadata": {},
   "outputs": [],
   "source": [
    "# zero matrix for storing posterior merge probs btwn clusters\n",
    "mergeProbs = np.zeros((clustData.shape[0], clustData.shape[0]))\n",
    "\n",
    "for n, i in enumerate(clustData.values[:, :2]):\n",
    "    for m, j in enumerate(clustData.values[:, :2]):\n",
    "        if n <= m:\n",
    "            break\n",
    "        # these parameters are placeholders\n",
    "        ybar = np.zeros(2) \n",
    "        sig = np.eye(2)\n",
    "        # calculate likelihood of two points being generated from the same distribution\n",
    "        # this does not currently take a prior distribution into account\n",
    "        # insert the probability in the zero matrix mergeProbs\n",
    "        mergeProbs[m, n] = generative_likelihood(ybar, sig, i, j)"
   ]
  },
  {
   "cell_type": "markdown",
   "metadata": {},
   "source": [
    "**Visualizing the mergeProbs matrix**\n",
    "\n",
    "The plot below depicts a few important points:\n",
    "1. \"hot spots\" indicate where probability of two points being from a single distribution is high\n",
    "2. cold spots are areas where the prob is low. After a while everything is cold. This is because the points are generated from clusters far away from the place holder mean and cov (mu = 0 and Sigma = identity)\n",
    "3. The matrix is upper triangular only. This is for efficiency. The break statement in the loop stops calculation anytime n <= p. It doesn't make sense to calculate the likelihood for i and i or to calculate the likelihood for i and j and then calculate it again for j and i because they are the same."
   ]
  },
  {
   "cell_type": "code",
   "execution_count": 10,
   "metadata": {},
   "outputs": [
    {
     "data": {
      "image/png": "[encoded data removed]",
      "text/plain": [
       "<Figure size 432x288 with 1 Axes>"
      ]
     },
     "metadata": {
      "needs_background": "light"
     },
     "output_type": "display_data"
    }
   ],
   "source": [
    "plt.imshow(mergeProbs)\n",
    "plt.show()"
   ]
  },
  {
   "cell_type": "code",
   "execution_count": null,
   "metadata": {},
   "outputs": [],
   "source": []
  }
 ],
 "metadata": {
  "kernelspec": {
   "display_name": "Python 3",
   "language": "python",
   "name": "python3"
  },
  "language_info": {
   "codemirror_mode": {
    "name": "ipython",
    "version": 3
   },
   "file_extension": ".py",
   "mimetype": "text/x-python",
   "name": "python",
   "nbconvert_exporter": "python",
   "pygments_lexer": "ipython3",
   "version": "3.7.2"
  }
 },
 "nbformat": 4,
 "nbformat_minor": 2
}
